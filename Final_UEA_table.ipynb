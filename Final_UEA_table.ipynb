{
  "nbformat": 4,
  "nbformat_minor": 0,
  "metadata": {
    "colab": {
      "provenance": []
    },
    "kernelspec": {
      "name": "python3",
      "display_name": "Python 3"
    }
  },
  "cells": [
    {
      "cell_type": "code",
      "metadata": {
        "colab": {
          "resources": {
            "http://localhost:8080/nbextensions/google.colab/files.js": {
              "data": "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",
              "ok": true,
              "headers": [
                [
                  "content-type",
                  "application/javascript"
                ]
              ],
              "status": 200,
              "status_text": ""
            }
          },
          "base_uri": "https://localhost:8080/",
          "height": 160
        },
        "id": "2mtrWaRJlmlo",
        "outputId": "ce28df73-b5e1-461b-cdda-664e29fb8364"
      },
      "source": [
        "# Upload all of the relevent files\n",
        "from datascience import *\n",
        "import pandas as pd\n",
        "import numpy as np\n",
        "from google.colab import files\n",
        "uploaded = files.upload()"
      ],
      "execution_count": null,
      "outputs": [
        {
          "output_type": "stream",
          "text": [
            "/usr/local/lib/python3.6/dist-packages/datascience/tables.py:17: MatplotlibDeprecationWarning: The 'warn' parameter of use() is deprecated since Matplotlib 3.1 and will be removed in 3.3.  If any parameter follows 'warn', they should be pass as keyword, not positionally.\n",
            "  matplotlib.use('agg', warn=False)\n",
            "/usr/local/lib/python3.6/dist-packages/datascience/util.py:10: MatplotlibDeprecationWarning: The 'warn' parameter of use() is deprecated since Matplotlib 3.1 and will be removed in 3.3.  If any parameter follows 'warn', they should be pass as keyword, not positionally.\n",
            "  matplotlib.use('agg', warn=False)\n"
          ],
          "name": "stderr"
        },
        {
          "output_type": "display_data",
          "data": {
            "text/html": [
              "\n",
              "     <input type=\"file\" id=\"files-e8db9c2a-3f2c-4469-9277-e725b372cb47\" name=\"files[]\" multiple disabled\n",
              "        style=\"border:none\" />\n",
              "     <output id=\"result-e8db9c2a-3f2c-4469-9277-e725b372cb47\">\n",
              "      Upload widget is only available when the cell has been executed in the\n",
              "      current browser session. Please rerun this cell to enable.\n",
              "      </output>\n",
              "      <script src=\"/nbextensions/google.colab/files.js\"></script> "
            ],
            "text/plain": [
              "<IPython.core.display.HTML object>"
            ]
          },
          "metadata": {
            "tags": []
          }
        },
        {
          "output_type": "stream",
          "text": [
            "Saving Final Midpoint Table.csv to Final Midpoint Table.csv\n"
          ],
          "name": "stdout"
        }
      ]
    },
    {
      "cell_type": "code",
      "metadata": {
        "id": "IHJLVc_otBJN"
      },
      "source": [
        "weight_table = Table().read_table('Final Midpoint Table.csv')"
      ],
      "execution_count": null,
      "outputs": []
    },
    {
      "cell_type": "code",
      "metadata": {
        "id": "o3XTXmggtYtE"
      },
      "source": [
        "weight = weight_table # Remove the Difference between the Student and Teacher percentages"
      ],
      "execution_count": null,
      "outputs": []
    },
    {
      "cell_type": "code",
      "metadata": {
        "colab": {
          "base_uri": "https://localhost:8080/",
          "height": 711
        },
        "id": "GFtM9zIYtZmj",
        "outputId": "e95398af-f236-4d55-f959-ceefcf74a363"
      },
      "source": [
        "weight #displaying the table created"
      ],
      "execution_count": null,
      "outputs": [
        {
          "output_type": "execute_result",
          "data": {
            "text/html": [
              "<table border=\"1\" class=\"dataframe\">\n",
              "    <thead>\n",
              "        <tr>\n",
              "            <th>District</th> <th>School</th> <th>Free/Reduced Lunch(%)</th> <th>Teachers (%)</th> <th>Students (%)</th> <th>Difference: Student - Teacher (%)</th> <th>Street</th> <th>City</th> <th>Zip</th> <th>State</th> <th>Latitude</th> <th>Longitude</th>\n",
              "        </tr>\n",
              "    </thead>\n",
              "    <tbody>\n",
              "        <tr>\n",
              "            <td>San Francisco Unified</td> <td>Cobb (William L.) Elementary  </td> <td>56.6                 </td> <td>0           </td> <td>30.88       </td> <td>30.88                            </td> <td>2725 California Street </td> <td>San Francisco</td> <td>94115-2513</td> <td>CA   </td> <td>37.788174</td> <td>-122.43918</td>\n",
              "        </tr>\n",
              "        <tr>\n",
              "            <td>San Francisco Unified</td> <td>Harte (Bret) Elementary       </td> <td>74.2                 </td> <td>0           </td> <td>23.96       </td> <td>23.96                            </td> <td>1035 Gilman Avenue     </td> <td>San Francisco</td> <td>94124-3710</td> <td>CA   </td> <td>37.71861 </td> <td>-122.38889</td>\n",
              "        </tr>\n",
              "        <tr>\n",
              "            <td>Oakland Unified      </td> <td>Grass Valley Elementary       </td> <td>73.6                 </td> <td>44.4444     </td> <td>63.78       </td> <td>19.3356                          </td> <td>4720 Dunkirk Avenue    </td> <td>Oakland      </td> <td>94605-5607</td> <td>CA   </td> <td>37.75301 </td> <td>-122.12585</td>\n",
              "        </tr>\n",
              "        <tr>\n",
              "            <td>San Francisco Unified</td> <td>Garfield Elementary           </td> <td>84.3                 </td> <td>0           </td> <td>19.07       </td> <td>19.07                            </td> <td>420 Filbert Street     </td> <td>San Francisco</td> <td>94133-3002</td> <td>CA   </td> <td>37.8018  </td> <td>-122.40673</td>\n",
              "        </tr>\n",
              "        <tr>\n",
              "            <td>San Francisco Unified</td> <td>El Dorado Elementary          </td> <td>70.1                 </td> <td>9.09091     </td> <td>27.39       </td> <td>18.2991                          </td> <td>70 Delta Street        </td> <td>San Francisco</td> <td>94134-2145</td> <td>CA   </td> <td>37.719265</td> <td>-122.40673</td>\n",
              "        </tr>\n",
              "        <tr>\n",
              "            <td>Oakland Unified      </td> <td>Emerson Elementary            </td> <td>65.3                 </td> <td>26.9231     </td> <td>44.27       </td> <td>17.3469                          </td> <td>4803 Lawton Avenue     </td> <td>Oakland      </td> <td>94609-2208</td> <td>CA   </td> <td>37.834628</td> <td>-122.2573 </td>\n",
              "        </tr>\n",
              "        <tr>\n",
              "            <td>San Francisco Unified</td> <td>Cleveland Elementary          </td> <td>70.9                 </td> <td>0           </td> <td>17.13       </td> <td>17.13                            </td> <td>455 Athens Street      </td> <td>San Francisco</td> <td>94112-2801</td> <td>CA   </td> <td>37.720733</td> <td>-122.42904</td>\n",
              "        </tr>\n",
              "        <tr>\n",
              "            <td>Oakland Unified      </td> <td>Burckhalter Elementary        </td> <td>82                   </td> <td>50          </td> <td>66.22       </td> <td>16.22                            </td> <td>3994 Burckhalter Avenue</td> <td>Oakland      </td> <td>94605-2616</td> <td>CA   </td> <td>37.775578</td> <td>-122.16679</td>\n",
              "        </tr>\n",
              "        <tr>\n",
              "            <td>San Francisco Unified</td> <td>King (Thomas Starr) Elementary</td> <td>40.2                 </td> <td>0           </td> <td>14.66       </td> <td>14.66                            </td> <td>1215 Carolina Street   </td> <td>San Francisco</td> <td>94107-3322</td> <td>CA   </td> <td>37.752765</td> <td>-122.39935</td>\n",
              "        </tr>\n",
              "        <tr>\n",
              "            <td>Oakland Unified      </td> <td>Kaiser Elementary             </td> <td>30.9                 </td> <td>7.14286     </td> <td>21.13       </td> <td>13.9871                          </td> <td>25 South Hill Court    </td> <td>Oakland      </td> <td>94618-2306</td> <td>CA   </td> <td>37.853077</td> <td>-122.23181</td>\n",
              "        </tr>\n",
              "    </tbody>\n",
              "</table>\n",
              "<p>... (92 rows omitted)</p>"
            ],
            "text/plain": [
              "District              | School                         | Free/Reduced Lunch(%) | Teachers (%) | Students (%) | Difference: Student - Teacher (%) | Street                  | City          | Zip        | State | Latitude  | Longitude\n",
              "San Francisco Unified | Cobb (William L.) Elementary   | 56.6                  | 0            | 30.88        | 30.88                             | 2725 California Street  | San Francisco | 94115-2513 | CA    | 37.788174 | -122.43918\n",
              "San Francisco Unified | Harte (Bret) Elementary        | 74.2                  | 0            | 23.96        | 23.96                             | 1035 Gilman Avenue      | San Francisco | 94124-3710 | CA    | 37.71861  | -122.38889\n",
              "Oakland Unified       | Grass Valley Elementary        | 73.6                  | 44.4444      | 63.78        | 19.3356                           | 4720 Dunkirk Avenue     | Oakland       | 94605-5607 | CA    | 37.75301  | -122.12585\n",
              "San Francisco Unified | Garfield Elementary            | 84.3                  | 0            | 19.07        | 19.07                             | 420 Filbert Street      | San Francisco | 94133-3002 | CA    | 37.8018   | -122.40673\n",
              "San Francisco Unified | El Dorado Elementary           | 70.1                  | 9.09091      | 27.39        | 18.2991                           | 70 Delta Street         | San Francisco | 94134-2145 | CA    | 37.719265 | -122.40673\n",
              "Oakland Unified       | Emerson Elementary             | 65.3                  | 26.9231      | 44.27        | 17.3469                           | 4803 Lawton Avenue      | Oakland       | 94609-2208 | CA    | 37.834628 | -122.2573\n",
              "San Francisco Unified | Cleveland Elementary           | 70.9                  | 0            | 17.13        | 17.13                             | 455 Athens Street       | San Francisco | 94112-2801 | CA    | 37.720733 | -122.42904\n",
              "Oakland Unified       | Burckhalter Elementary         | 82                    | 50           | 66.22        | 16.22                             | 3994 Burckhalter Avenue | Oakland       | 94605-2616 | CA    | 37.775578 | -122.16679\n",
              "San Francisco Unified | King (Thomas Starr) Elementary | 40.2                  | 0            | 14.66        | 14.66                             | 1215 Carolina Street    | San Francisco | 94107-3322 | CA    | 37.752765 | -122.39935\n",
              "Oakland Unified       | Kaiser Elementary              | 30.9                  | 7.14286      | 21.13        | 13.9871                           | 25 South Hill Court     | Oakland       | 94618-2306 | CA    | 37.853077 | -122.23181\n",
              "... (92 rows omitted)"
            ]
          },
          "metadata": {
            "tags": []
          },
          "execution_count": 4
        }
      ]
    },
    {
      "cell_type": "code",
      "metadata": {
        "colab": {
          "base_uri": "https://localhost:8080/",
          "height": 643
        },
        "id": "1GPlysIBthcE",
        "outputId": "98ddb96e-6d34-4741-d1c9-c693b1baafc6"
      },
      "source": [
        "sort_for_lunch = weight.sort(\"Free/Reduced Lunch(%)\", descending = True)\n",
        "sort_for_lunch"
      ],
      "execution_count": null,
      "outputs": [
        {
          "output_type": "execute_result",
          "data": {
            "text/html": [
              "<table border=\"1\" class=\"dataframe\">\n",
              "    <thead>\n",
              "        <tr>\n",
              "            <th>District</th> <th>School</th> <th>Free/Reduced Lunch(%)</th> <th>Teachers (%)</th> <th>Students (%)</th> <th>Difference: Student - Teacher (%)</th> <th>Street</th> <th>City</th> <th>Zip</th> <th>State</th> <th>Latitude</th> <th>Longitude</th>\n",
              "        </tr>\n",
              "    </thead>\n",
              "    <tbody>\n",
              "        <tr>\n",
              "            <td>Oakland Unified</td> <td>Futures Elementary                </td> <td>90.8                 </td> <td>31.5789     </td> <td>40.06       </td> <td>8.48105                          </td> <td>6701 International Boulevard</td> <td>Oakland</td> <td>94621-3501</td> <td>CA   </td> <td>37.761424</td> <td>-122.19188</td>\n",
              "        </tr>\n",
              "        <tr>\n",
              "            <td>Oakland Unified</td> <td>Martin Luther King, Jr. Elementary</td> <td>89.4                 </td> <td>50          </td> <td>60.36       </td> <td>10.36                            </td> <td>960 Tenth Street            </td> <td>Oakland</td> <td>94607-3106</td> <td>CA   </td> <td>37.80568 </td> <td>-122.28298</td>\n",
              "        </tr>\n",
              "        <tr>\n",
              "            <td>Oakland Unified</td> <td>Hoover Elementary                 </td> <td>89                   </td> <td>25          </td> <td>35.11       </td> <td>10.11                            </td> <td>890 Brockhurst Street       </td> <td>Oakland</td> <td>94608-4318</td> <td>CA   </td> <td>37.822947</td> <td>-122.27445</td>\n",
              "        </tr>\n",
              "        <tr>\n",
              "            <td>Oakland Unified</td> <td>Markham Elementary                </td> <td>88.5                 </td> <td>47.3684     </td> <td>25.39       </td> <td>-21.9784                         </td> <td>7220 Krause Avenue          </td> <td>Oakland</td> <td>94605-2380</td> <td>CA   </td> <td>37.765296</td> <td>-122.17887</td>\n",
              "        </tr>\n",
              "        <tr>\n",
              "            <td>Oakland Unified</td> <td>East Oakland Pride Elementary     </td> <td>87                   </td> <td>11.1111     </td> <td>22.25       </td> <td>11.1389                          </td> <td>8000 Birch Street           </td> <td>Oakland</td> <td>94621-2123</td> <td>CA   </td> <td>37.759065</td> <td>-122.17445</td>\n",
              "        </tr>\n",
              "        <tr>\n",
              "            <td>Oakland Unified</td> <td>Parker Elementary                 </td> <td>86.6                 </td> <td>42.8571     </td> <td>50          </td> <td>7.14286                          </td> <td>7929 Ney Avenue             </td> <td>Oakland</td> <td>94605-3311</td> <td>CA   </td> <td>37.76564 </td> <td>-122.16559</td>\n",
              "        </tr>\n",
              "        <tr>\n",
              "            <td>Oakland Unified</td> <td>Community United Elementary       </td> <td>86.3                 </td> <td>26.087      </td> <td>11.53       </td> <td>-14.557                          </td> <td>6701 International Boulevard</td> <td>Oakland</td> <td>94621-3501</td> <td>CA   </td> <td>37.761424</td> <td>-122.19188</td>\n",
              "        </tr>\n",
              "        <tr>\n",
              "            <td>Oakland Unified</td> <td>EnCompass Academy Elementary      </td> <td>85.4                 </td> <td>16.6667     </td> <td>16.91       </td> <td>0.243333                         </td> <td>1025 81st Avenue            </td> <td>Oakland</td> <td>94621-2455</td> <td>CA   </td> <td>37.752862</td> <td>-122.18605</td>\n",
              "        </tr>\n",
              "        <tr>\n",
              "            <td>Oakland Unified</td> <td>Fruitvale Elementary              </td> <td>84.3                 </td> <td>38.0952     </td> <td>29.94       </td> <td>-8.15524                         </td> <td>3200 Boston Avenue          </td> <td>Oakland</td> <td>94602-2899</td> <td>CA   </td> <td>37.796228</td> <td>-122.21407</td>\n",
              "        </tr>\n",
              "        <tr>\n",
              "            <td>Oakland Unified</td> <td>Garfield Elementary               </td> <td>84.3                 </td> <td>18.4211     </td> <td>19.07       </td> <td>0.648947                         </td> <td>1640 22nd Avenue            </td> <td>Oakland</td> <td>94606-4710</td> <td>CA   </td> <td>37.786684</td> <td>-122.23578</td>\n",
              "        </tr>\n",
              "    </tbody>\n",
              "</table>\n",
              "<p>... (92 rows omitted)</p>"
            ],
            "text/plain": [
              "District        | School                             | Free/Reduced Lunch(%) | Teachers (%) | Students (%) | Difference: Student - Teacher (%) | Street                       | City    | Zip        | State | Latitude  | Longitude\n",
              "Oakland Unified | Futures Elementary                 | 90.8                  | 31.5789      | 40.06        | 8.48105                           | 6701 International Boulevard | Oakland | 94621-3501 | CA    | 37.761424 | -122.19188\n",
              "Oakland Unified | Martin Luther King, Jr. Elementary | 89.4                  | 50           | 60.36        | 10.36                             | 960 Tenth Street             | Oakland | 94607-3106 | CA    | 37.80568  | -122.28298\n",
              "Oakland Unified | Hoover Elementary                  | 89                    | 25           | 35.11        | 10.11                             | 890 Brockhurst Street        | Oakland | 94608-4318 | CA    | 37.822947 | -122.27445\n",
              "Oakland Unified | Markham Elementary                 | 88.5                  | 47.3684      | 25.39        | -21.9784                          | 7220 Krause Avenue           | Oakland | 94605-2380 | CA    | 37.765296 | -122.17887\n",
              "Oakland Unified | East Oakland Pride Elementary      | 87                    | 11.1111      | 22.25        | 11.1389                           | 8000 Birch Street            | Oakland | 94621-2123 | CA    | 37.759065 | -122.17445\n",
              "Oakland Unified | Parker Elementary                  | 86.6                  | 42.8571      | 50           | 7.14286                           | 7929 Ney Avenue              | Oakland | 94605-3311 | CA    | 37.76564  | -122.16559\n",
              "Oakland Unified | Community United Elementary        | 86.3                  | 26.087       | 11.53        | -14.557                           | 6701 International Boulevard | Oakland | 94621-3501 | CA    | 37.761424 | -122.19188\n",
              "Oakland Unified | EnCompass Academy Elementary       | 85.4                  | 16.6667      | 16.91        | 0.243333                          | 1025 81st Avenue             | Oakland | 94621-2455 | CA    | 37.752862 | -122.18605\n",
              "Oakland Unified | Fruitvale Elementary               | 84.3                  | 38.0952      | 29.94        | -8.15524                          | 3200 Boston Avenue           | Oakland | 94602-2899 | CA    | 37.796228 | -122.21407\n",
              "Oakland Unified | Garfield Elementary                | 84.3                  | 18.4211      | 19.07        | 0.648947                          | 1640 22nd Avenue             | Oakland | 94606-4710 | CA    | 37.786684 | -122.23578\n",
              "... (92 rows omitted)"
            ]
          },
          "metadata": {
            "tags": []
          },
          "execution_count": 5
        }
      ]
    },
    {
      "cell_type": "code",
      "metadata": {
        "colab": {
          "base_uri": "https://localhost:8080/",
          "height": 677
        },
        "id": "gcaGt0lrt1AN",
        "outputId": "bdbad41d-8381-4420-9cf7-e09d57c8a334"
      },
      "source": [
        "categories = make_array()\n",
        "bin_size = sort_for_lunch.num_rows/3\n",
        "bin_size\n",
        "\n",
        "\n",
        "# assigning each school a score based on their lunch program data\n",
        "for_category_one = sort_for_lunch.take(34).select(2)[0][0]\n",
        "for_category_two = sort_for_lunch.take(68).select(2)[0][0]\n",
        "for_category_three = sort_for_lunch.take(101).select(2)[0][0]\n",
        "for_categories = make_array(for_category_one, for_category_two, for_category_three)\n",
        "for_categories\n",
        "\n",
        "score_for = make_array()\n",
        "for value in sort_for_lunch.column(\"Free/Reduced Lunch(%)\"):\n",
        "  if value >= 68.2:\n",
        "    score_for = np.append(score_for, 3)\n",
        "  elif value >= 34.1:\n",
        "    score_for = np.append(score_for, 2)\n",
        "  elif value >= 9.8:\n",
        "    score_for = np.append(score_for, 1)\n",
        "\n",
        "\n",
        "for_lunch_final = sort_for_lunch.with_column(\"FOR Score\", score_for)\n",
        "for_lunch_final"
      ],
      "execution_count": null,
      "outputs": [
        {
          "output_type": "execute_result",
          "data": {
            "text/html": [
              "<table border=\"1\" class=\"dataframe\">\n",
              "    <thead>\n",
              "        <tr>\n",
              "            <th>District</th> <th>School</th> <th>Free/Reduced Lunch(%)</th> <th>Teachers (%)</th> <th>Students (%)</th> <th>Difference: Student - Teacher (%)</th> <th>Street</th> <th>City</th> <th>Zip</th> <th>State</th> <th>Latitude</th> <th>Longitude</th> <th>FOR Score</th>\n",
              "        </tr>\n",
              "    </thead>\n",
              "    <tbody>\n",
              "        <tr>\n",
              "            <td>Oakland Unified</td> <td>Futures Elementary                </td> <td>90.8                 </td> <td>31.5789     </td> <td>40.06       </td> <td>8.48105                          </td> <td>6701 International Boulevard</td> <td>Oakland</td> <td>94621-3501</td> <td>CA   </td> <td>37.761424</td> <td>-122.19188</td> <td>3        </td>\n",
              "        </tr>\n",
              "        <tr>\n",
              "            <td>Oakland Unified</td> <td>Martin Luther King, Jr. Elementary</td> <td>89.4                 </td> <td>50          </td> <td>60.36       </td> <td>10.36                            </td> <td>960 Tenth Street            </td> <td>Oakland</td> <td>94607-3106</td> <td>CA   </td> <td>37.80568 </td> <td>-122.28298</td> <td>3        </td>\n",
              "        </tr>\n",
              "        <tr>\n",
              "            <td>Oakland Unified</td> <td>Hoover Elementary                 </td> <td>89                   </td> <td>25          </td> <td>35.11       </td> <td>10.11                            </td> <td>890 Brockhurst Street       </td> <td>Oakland</td> <td>94608-4318</td> <td>CA   </td> <td>37.822947</td> <td>-122.27445</td> <td>3        </td>\n",
              "        </tr>\n",
              "        <tr>\n",
              "            <td>Oakland Unified</td> <td>Markham Elementary                </td> <td>88.5                 </td> <td>47.3684     </td> <td>25.39       </td> <td>-21.9784                         </td> <td>7220 Krause Avenue          </td> <td>Oakland</td> <td>94605-2380</td> <td>CA   </td> <td>37.765296</td> <td>-122.17887</td> <td>3        </td>\n",
              "        </tr>\n",
              "        <tr>\n",
              "            <td>Oakland Unified</td> <td>East Oakland Pride Elementary     </td> <td>87                   </td> <td>11.1111     </td> <td>22.25       </td> <td>11.1389                          </td> <td>8000 Birch Street           </td> <td>Oakland</td> <td>94621-2123</td> <td>CA   </td> <td>37.759065</td> <td>-122.17445</td> <td>3        </td>\n",
              "        </tr>\n",
              "        <tr>\n",
              "            <td>Oakland Unified</td> <td>Parker Elementary                 </td> <td>86.6                 </td> <td>42.8571     </td> <td>50          </td> <td>7.14286                          </td> <td>7929 Ney Avenue             </td> <td>Oakland</td> <td>94605-3311</td> <td>CA   </td> <td>37.76564 </td> <td>-122.16559</td> <td>3        </td>\n",
              "        </tr>\n",
              "        <tr>\n",
              "            <td>Oakland Unified</td> <td>Community United Elementary       </td> <td>86.3                 </td> <td>26.087      </td> <td>11.53       </td> <td>-14.557                          </td> <td>6701 International Boulevard</td> <td>Oakland</td> <td>94621-3501</td> <td>CA   </td> <td>37.761424</td> <td>-122.19188</td> <td>3        </td>\n",
              "        </tr>\n",
              "        <tr>\n",
              "            <td>Oakland Unified</td> <td>EnCompass Academy Elementary      </td> <td>85.4                 </td> <td>16.6667     </td> <td>16.91       </td> <td>0.243333                         </td> <td>1025 81st Avenue            </td> <td>Oakland</td> <td>94621-2455</td> <td>CA   </td> <td>37.752862</td> <td>-122.18605</td> <td>3        </td>\n",
              "        </tr>\n",
              "        <tr>\n",
              "            <td>Oakland Unified</td> <td>Fruitvale Elementary              </td> <td>84.3                 </td> <td>38.0952     </td> <td>29.94       </td> <td>-8.15524                         </td> <td>3200 Boston Avenue          </td> <td>Oakland</td> <td>94602-2899</td> <td>CA   </td> <td>37.796228</td> <td>-122.21407</td> <td>3        </td>\n",
              "        </tr>\n",
              "        <tr>\n",
              "            <td>Oakland Unified</td> <td>Garfield Elementary               </td> <td>84.3                 </td> <td>18.4211     </td> <td>19.07       </td> <td>0.648947                         </td> <td>1640 22nd Avenue            </td> <td>Oakland</td> <td>94606-4710</td> <td>CA   </td> <td>37.786684</td> <td>-122.23578</td> <td>3        </td>\n",
              "        </tr>\n",
              "    </tbody>\n",
              "</table>\n",
              "<p>... (92 rows omitted)</p>"
            ],
            "text/plain": [
              "District        | School                             | Free/Reduced Lunch(%) | Teachers (%) | Students (%) | Difference: Student - Teacher (%) | Street                       | City    | Zip        | State | Latitude  | Longitude  | FOR Score\n",
              "Oakland Unified | Futures Elementary                 | 90.8                  | 31.5789      | 40.06        | 8.48105                           | 6701 International Boulevard | Oakland | 94621-3501 | CA    | 37.761424 | -122.19188 | 3\n",
              "Oakland Unified | Martin Luther King, Jr. Elementary | 89.4                  | 50           | 60.36        | 10.36                             | 960 Tenth Street             | Oakland | 94607-3106 | CA    | 37.80568  | -122.28298 | 3\n",
              "Oakland Unified | Hoover Elementary                  | 89                    | 25           | 35.11        | 10.11                             | 890 Brockhurst Street        | Oakland | 94608-4318 | CA    | 37.822947 | -122.27445 | 3\n",
              "Oakland Unified | Markham Elementary                 | 88.5                  | 47.3684      | 25.39        | -21.9784                          | 7220 Krause Avenue           | Oakland | 94605-2380 | CA    | 37.765296 | -122.17887 | 3\n",
              "Oakland Unified | East Oakland Pride Elementary      | 87                    | 11.1111      | 22.25        | 11.1389                           | 8000 Birch Street            | Oakland | 94621-2123 | CA    | 37.759065 | -122.17445 | 3\n",
              "Oakland Unified | Parker Elementary                  | 86.6                  | 42.8571      | 50           | 7.14286                           | 7929 Ney Avenue              | Oakland | 94605-3311 | CA    | 37.76564  | -122.16559 | 3\n",
              "Oakland Unified | Community United Elementary        | 86.3                  | 26.087       | 11.53        | -14.557                           | 6701 International Boulevard | Oakland | 94621-3501 | CA    | 37.761424 | -122.19188 | 3\n",
              "Oakland Unified | EnCompass Academy Elementary       | 85.4                  | 16.6667      | 16.91        | 0.243333                          | 1025 81st Avenue             | Oakland | 94621-2455 | CA    | 37.752862 | -122.18605 | 3\n",
              "Oakland Unified | Fruitvale Elementary               | 84.3                  | 38.0952      | 29.94        | -8.15524                          | 3200 Boston Avenue           | Oakland | 94602-2899 | CA    | 37.796228 | -122.21407 | 3\n",
              "Oakland Unified | Garfield Elementary                | 84.3                  | 18.4211      | 19.07        | 0.648947                          | 1640 22nd Avenue             | Oakland | 94606-4710 | CA    | 37.786684 | -122.23578 | 3\n",
              "... (92 rows omitted)"
            ]
          },
          "metadata": {
            "tags": []
          },
          "execution_count": 6
        }
      ]
    },
    {
      "cell_type": "code",
      "metadata": {
        "colab": {
          "base_uri": "https://localhost:8080/"
        },
        "id": "EjqVetKUuMrb",
        "outputId": "e5aa84fe-9844-4f72-a5ac-7e60f76cf733"
      },
      "source": [
        "sort_teachers = for_lunch_final.sort(\"Teachers (%)\", descending = True)\n",
        "sort_teachers\n",
        "\n",
        "\n",
        "categories = make_array()\n",
        "bin_size = sort_for_lunch.num_rows/3\n",
        "bin_size\n",
        "\n",
        "\n",
        "# assigning each school a score based on probability of getting an African American teacher\n",
        "teacher_category_one = sort_teachers.take(30).select(3)[0][0]\n",
        "teacher_category_two = sort_teachers.take(59).select(3)[0][0]\n",
        "teacher_category_three = sort_teachers.take(101).select(3)[0][0]\n",
        "teacher_categories = make_array(teacher_category_one, teacher_category_two, teacher_category_three)\n",
        "teacher_categories"
      ],
      "execution_count": null,
      "outputs": [
        {
          "output_type": "execute_result",
          "data": {
            "text/plain": [
              "array([12.       ,  2.7027027,  0.       ])"
            ]
          },
          "metadata": {
            "tags": []
          },
          "execution_count": 7
        }
      ]
    },
    {
      "cell_type": "code",
      "metadata": {
        "colab": {
          "base_uri": "https://localhost:8080/",
          "height": 762
        },
        "id": "bQMD5g_H0r08",
        "outputId": "0f4d26d4-0011-4295-b41d-2611aba5055a"
      },
      "source": [
        "score_teacher = make_array()\n",
        "for value_t in sort_teachers.column(\"Teachers (%)\"):\n",
        "  if value_t >= 12:\n",
        "    score_teacher = np.append(score_teacher, 1)\n",
        "  elif value_t >= 2.7027027:\n",
        "    score_teacher = np.append(score_teacher, 2)\n",
        "  elif value_t >= 0 :\n",
        "    score_teacher = np.append(score_teacher, 3)\n",
        "\n",
        "\n",
        "teachers_final = sort_teachers.with_column(\"Teacher Score\", score_teacher)\n",
        "teachers_final\n"
      ],
      "execution_count": null,
      "outputs": [
        {
          "output_type": "execute_result",
          "data": {
            "text/html": [
              "<table border=\"1\" class=\"dataframe\">\n",
              "    <thead>\n",
              "        <tr>\n",
              "            <th>District</th> <th>School</th> <th>Free/Reduced Lunch(%)</th> <th>Teachers (%)</th> <th>Students (%)</th> <th>Difference: Student - Teacher (%)</th> <th>Street</th> <th>City</th> <th>Zip</th> <th>State</th> <th>Latitude</th> <th>Longitude</th> <th>FOR Score</th> <th>Teacher Score</th>\n",
              "        </tr>\n",
              "    </thead>\n",
              "    <tbody>\n",
              "        <tr>\n",
              "            <td>Oakland Unified      </td> <td>Burckhalter Elementary               </td> <td>82                   </td> <td>50          </td> <td>66.22       </td> <td>16.22                            </td> <td>3994 Burckhalter Avenue</td> <td>Oakland      </td> <td>94605-2616</td> <td>CA   </td> <td>37.775578</td> <td>-122.16679</td> <td>3        </td> <td>1            </td>\n",
              "        </tr>\n",
              "        <tr>\n",
              "            <td>San Francisco Unified</td> <td>Carver (George Washington) Elementary</td> <td>82                   </td> <td>50          </td> <td>53.13       </td> <td>3.13                             </td> <td>1360 Oakdale Avenue    </td> <td>San Francisco</td> <td>94124-2724</td> <td>CA   </td> <td>37.732403</td> <td>-122.38638</td> <td>3        </td> <td>1            </td>\n",
              "        </tr>\n",
              "        <tr>\n",
              "            <td>Oakland Unified      </td> <td>Martin Luther King, Jr. Elementary   </td> <td>89.4                 </td> <td>50          </td> <td>60.36       </td> <td>10.36                            </td> <td>960 Tenth Street       </td> <td>Oakland      </td> <td>94607-3106</td> <td>CA   </td> <td>37.80568 </td> <td>-122.28298</td> <td>3        </td> <td>1            </td>\n",
              "        </tr>\n",
              "        <tr>\n",
              "            <td>Oakland Unified      </td> <td>Markham Elementary                   </td> <td>88.5                 </td> <td>47.3684     </td> <td>25.39       </td> <td>-21.9784                         </td> <td>7220 Krause Avenue     </td> <td>Oakland      </td> <td>94605-2380</td> <td>CA   </td> <td>37.765296</td> <td>-122.17887</td> <td>3        </td> <td>1            </td>\n",
              "        </tr>\n",
              "        <tr>\n",
              "            <td>Oakland Unified      </td> <td>Carl B. Munck Elementary             </td> <td>66.4                 </td> <td>47.0588     </td> <td>51.29       </td> <td>4.23118                          </td> <td>11900 Campus Drive     </td> <td>Oakland      </td> <td>94619-3104</td> <td>CA   </td> <td>37.794753</td> <td>-122.17382</td> <td>2        </td> <td>1            </td>\n",
              "        </tr>\n",
              "        <tr>\n",
              "            <td>Oakland Unified      </td> <td>Howard Elementary                    </td> <td>80.2                 </td> <td>47.0588     </td> <td>55.93       </td> <td>8.87118                          </td> <td>8755 Fontaine Street   </td> <td>Oakland      </td> <td>94605-4197</td> <td>CA   </td> <td>37.76215 </td> <td>-122.15135</td> <td>3        </td> <td>1            </td>\n",
              "        </tr>\n",
              "        <tr>\n",
              "            <td>Oakland Unified      </td> <td>Grass Valley Elementary              </td> <td>73.6                 </td> <td>44.4444     </td> <td>63.78       </td> <td>19.3356                          </td> <td>4720 Dunkirk Avenue    </td> <td>Oakland      </td> <td>94605-5607</td> <td>CA   </td> <td>37.75301 </td> <td>-122.12585</td> <td>3        </td> <td>1            </td>\n",
              "        </tr>\n",
              "        <tr>\n",
              "            <td>Oakland Unified      </td> <td>Parker Elementary                    </td> <td>86.6                 </td> <td>42.8571     </td> <td>50          </td> <td>7.14286                          </td> <td>7929 Ney Avenue        </td> <td>Oakland      </td> <td>94605-3311</td> <td>CA   </td> <td>37.76564 </td> <td>-122.16559</td> <td>3        </td> <td>1            </td>\n",
              "        </tr>\n",
              "        <tr>\n",
              "            <td>Oakland Unified      </td> <td>Fruitvale Elementary                 </td> <td>84.3                 </td> <td>38.0952     </td> <td>29.94       </td> <td>-8.15524                         </td> <td>3200 Boston Avenue     </td> <td>Oakland      </td> <td>94602-2899</td> <td>CA   </td> <td>37.796228</td> <td>-122.21407</td> <td>3        </td> <td>1            </td>\n",
              "        </tr>\n",
              "        <tr>\n",
              "            <td>Oakland Unified      </td> <td>Piedmont Avenue Elementary           </td> <td>66.9                 </td> <td>37.5        </td> <td>48.97       </td> <td>11.47                            </td> <td>4314 Piedmont Avenue   </td> <td>Oakland      </td> <td>94611-4716</td> <td>CA   </td> <td>37.829071</td> <td>-122.24879</td> <td>2        </td> <td>1            </td>\n",
              "        </tr>\n",
              "    </tbody>\n",
              "</table>\n",
              "<p>... (92 rows omitted)</p>"
            ],
            "text/plain": [
              "District              | School                                | Free/Reduced Lunch(%) | Teachers (%) | Students (%) | Difference: Student - Teacher (%) | Street                  | City          | Zip        | State | Latitude  | Longitude  | FOR Score | Teacher Score\n",
              "Oakland Unified       | Burckhalter Elementary                | 82                    | 50           | 66.22        | 16.22                             | 3994 Burckhalter Avenue | Oakland       | 94605-2616 | CA    | 37.775578 | -122.16679 | 3         | 1\n",
              "San Francisco Unified | Carver (George Washington) Elementary | 82                    | 50           | 53.13        | 3.13                              | 1360 Oakdale Avenue     | San Francisco | 94124-2724 | CA    | 37.732403 | -122.38638 | 3         | 1\n",
              "Oakland Unified       | Martin Luther King, Jr. Elementary    | 89.4                  | 50           | 60.36        | 10.36                             | 960 Tenth Street        | Oakland       | 94607-3106 | CA    | 37.80568  | -122.28298 | 3         | 1\n",
              "Oakland Unified       | Markham Elementary                    | 88.5                  | 47.3684      | 25.39        | -21.9784                          | 7220 Krause Avenue      | Oakland       | 94605-2380 | CA    | 37.765296 | -122.17887 | 3         | 1\n",
              "Oakland Unified       | Carl B. Munck Elementary              | 66.4                  | 47.0588      | 51.29        | 4.23118                           | 11900 Campus Drive      | Oakland       | 94619-3104 | CA    | 37.794753 | -122.17382 | 2         | 1\n",
              "Oakland Unified       | Howard Elementary                     | 80.2                  | 47.0588      | 55.93        | 8.87118                           | 8755 Fontaine Street    | Oakland       | 94605-4197 | CA    | 37.76215  | -122.15135 | 3         | 1\n",
              "Oakland Unified       | Grass Valley Elementary               | 73.6                  | 44.4444      | 63.78        | 19.3356                           | 4720 Dunkirk Avenue     | Oakland       | 94605-5607 | CA    | 37.75301  | -122.12585 | 3         | 1\n",
              "Oakland Unified       | Parker Elementary                     | 86.6                  | 42.8571      | 50           | 7.14286                           | 7929 Ney Avenue         | Oakland       | 94605-3311 | CA    | 37.76564  | -122.16559 | 3         | 1\n",
              "Oakland Unified       | Fruitvale Elementary                  | 84.3                  | 38.0952      | 29.94        | -8.15524                          | 3200 Boston Avenue      | Oakland       | 94602-2899 | CA    | 37.796228 | -122.21407 | 3         | 1\n",
              "Oakland Unified       | Piedmont Avenue Elementary            | 66.9                  | 37.5         | 48.97        | 11.47                             | 4314 Piedmont Avenue    | Oakland       | 94611-4716 | CA    | 37.829071 | -122.24879 | 2         | 1\n",
              "... (92 rows omitted)"
            ]
          },
          "metadata": {
            "tags": []
          },
          "execution_count": 8
        }
      ]
    },
    {
      "cell_type": "code",
      "metadata": {
        "colab": {
          "base_uri": "https://localhost:8080/"
        },
        "id": "oKs029PJ2TYp",
        "outputId": "5b28db5f-fa8e-435d-dbc9-db07c55c63d1"
      },
      "source": [
        "sort_impact = teachers_final.sort(\"Students (%)\", descending = True)\n",
        "sort_impact\n",
        "\n",
        "\n",
        "categories = make_array()\n",
        "bin_size = sort_for_lunch.num_rows/3\n",
        "bin_size\n",
        "\n",
        "\n",
        "# assigning each school a score based on the number of African American students\n",
        "impact_category_one = sort_impact.take(30).select(4)[0][0]\n",
        "impact_category_two = sort_impact.take(59).select(4)[0][0]\n",
        "impact_category_three = sort_impact.take(101).select(4)[0][0]\n",
        "impact_categories = make_array(impact_category_one, impact_category_two, impact_category_three)\n",
        "impact_categories"
      ],
      "execution_count": null,
      "outputs": [
        {
          "output_type": "execute_result",
          "data": {
            "text/plain": [
              "array([16.91,  7.2 ,  0.25])"
            ]
          },
          "metadata": {
            "tags": []
          },
          "execution_count": 9
        }
      ]
    },
    {
      "cell_type": "code",
      "metadata": {
        "colab": {
          "base_uri": "https://localhost:8080/",
          "height": 799
        },
        "id": "-W9yyJfg3xlg",
        "outputId": "4afc294b-723c-4d90-a7e5-ed013f19a333"
      },
      "source": [
        "score_impact = make_array()\n",
        "for value_i in sort_impact.column(\"Students (%)\"):\n",
        "  if value_i >= 16.91:\n",
        "    score_impact = np.append(score_impact, 3)\n",
        "  elif value_i >= 7.2:\n",
        "    score_impact = np.append(score_impact, 2)\n",
        "  elif value_i >= 0.25:\n",
        "    score_impact = np.append(score_impact, 1)\n",
        "\n",
        "\n",
        "impact_final = sort_impact.with_column(\"Impact Score\", score_impact)\n",
        "impact_final"
      ],
      "execution_count": null,
      "outputs": [
        {
          "output_type": "execute_result",
          "data": {
            "text/html": [
              "<table border=\"1\" class=\"dataframe\">\n",
              "    <thead>\n",
              "        <tr>\n",
              "            <th>District</th> <th>School</th> <th>Free/Reduced Lunch(%)</th> <th>Teachers (%)</th> <th>Students (%)</th> <th>Difference: Student - Teacher (%)</th> <th>Street</th> <th>City</th> <th>Zip</th> <th>State</th> <th>Latitude</th> <th>Longitude</th> <th>FOR Score</th> <th>Teacher Score</th> <th>Impact Score</th>\n",
              "        </tr>\n",
              "    </thead>\n",
              "    <tbody>\n",
              "        <tr>\n",
              "            <td>Oakland Unified      </td> <td>Burckhalter Elementary               </td> <td>82                   </td> <td>50          </td> <td>66.22       </td> <td>16.22                            </td> <td>3994 Burckhalter Avenue     </td> <td>Oakland      </td> <td>94605-2616</td> <td>CA   </td> <td>37.775578</td> <td>-122.16679</td> <td>3        </td> <td>1            </td> <td>3           </td>\n",
              "        </tr>\n",
              "        <tr>\n",
              "            <td>Oakland Unified      </td> <td>Grass Valley Elementary              </td> <td>73.6                 </td> <td>44.4444     </td> <td>63.78       </td> <td>19.3356                          </td> <td>4720 Dunkirk Avenue         </td> <td>Oakland      </td> <td>94605-5607</td> <td>CA   </td> <td>37.75301 </td> <td>-122.12585</td> <td>3        </td> <td>1            </td> <td>3           </td>\n",
              "        </tr>\n",
              "        <tr>\n",
              "            <td>Oakland Unified      </td> <td>Martin Luther King, Jr. Elementary   </td> <td>89.4                 </td> <td>50          </td> <td>60.36       </td> <td>10.36                            </td> <td>960 Tenth Street            </td> <td>Oakland      </td> <td>94607-3106</td> <td>CA   </td> <td>37.80568 </td> <td>-122.28298</td> <td>3        </td> <td>1            </td> <td>3           </td>\n",
              "        </tr>\n",
              "        <tr>\n",
              "            <td>Oakland Unified      </td> <td>Howard Elementary                    </td> <td>80.2                 </td> <td>47.0588     </td> <td>55.93       </td> <td>8.87118                          </td> <td>8755 Fontaine Street        </td> <td>Oakland      </td> <td>94605-4197</td> <td>CA   </td> <td>37.76215 </td> <td>-122.15135</td> <td>3        </td> <td>1            </td> <td>3           </td>\n",
              "        </tr>\n",
              "        <tr>\n",
              "            <td>San Francisco Unified</td> <td>Carver (George Washington) Elementary</td> <td>82                   </td> <td>50          </td> <td>53.13       </td> <td>3.13                             </td> <td>1360 Oakdale Avenue         </td> <td>San Francisco</td> <td>94124-2724</td> <td>CA   </td> <td>37.732403</td> <td>-122.38638</td> <td>3        </td> <td>1            </td> <td>3           </td>\n",
              "        </tr>\n",
              "        <tr>\n",
              "            <td>Oakland Unified      </td> <td>Carl B. Munck Elementary             </td> <td>66.4                 </td> <td>47.0588     </td> <td>51.29       </td> <td>4.23118                          </td> <td>11900 Campus Drive          </td> <td>Oakland      </td> <td>94619-3104</td> <td>CA   </td> <td>37.794753</td> <td>-122.17382</td> <td>2        </td> <td>1            </td> <td>3           </td>\n",
              "        </tr>\n",
              "        <tr>\n",
              "            <td>Oakland Unified      </td> <td>Parker Elementary                    </td> <td>86.6                 </td> <td>42.8571     </td> <td>50          </td> <td>7.14286                          </td> <td>7929 Ney Avenue             </td> <td>Oakland      </td> <td>94605-3311</td> <td>CA   </td> <td>37.76564 </td> <td>-122.16559</td> <td>3        </td> <td>1            </td> <td>3           </td>\n",
              "        </tr>\n",
              "        <tr>\n",
              "            <td>Oakland Unified      </td> <td>Piedmont Avenue Elementary           </td> <td>66.9                 </td> <td>37.5        </td> <td>48.97       </td> <td>11.47                            </td> <td>4314 Piedmont Avenue        </td> <td>Oakland      </td> <td>94611-4716</td> <td>CA   </td> <td>37.829071</td> <td>-122.24879</td> <td>2        </td> <td>1            </td> <td>3           </td>\n",
              "        </tr>\n",
              "        <tr>\n",
              "            <td>Oakland Unified      </td> <td>Emerson Elementary                   </td> <td>65.3                 </td> <td>26.9231     </td> <td>44.27       </td> <td>17.3469                          </td> <td>4803 Lawton Avenue          </td> <td>Oakland      </td> <td>94609-2208</td> <td>CA   </td> <td>37.834628</td> <td>-122.2573 </td> <td>2        </td> <td>1            </td> <td>3           </td>\n",
              "        </tr>\n",
              "        <tr>\n",
              "            <td>Oakland Unified      </td> <td>Futures Elementary                   </td> <td>90.8                 </td> <td>31.5789     </td> <td>40.06       </td> <td>8.48105                          </td> <td>6701 International Boulevard</td> <td>Oakland      </td> <td>94621-3501</td> <td>CA   </td> <td>37.761424</td> <td>-122.19188</td> <td>3        </td> <td>1            </td> <td>3           </td>\n",
              "        </tr>\n",
              "    </tbody>\n",
              "</table>\n",
              "<p>... (92 rows omitted)</p>"
            ],
            "text/plain": [
              "District              | School                                | Free/Reduced Lunch(%) | Teachers (%) | Students (%) | Difference: Student - Teacher (%) | Street                       | City          | Zip        | State | Latitude  | Longitude  | FOR Score | Teacher Score | Impact Score\n",
              "Oakland Unified       | Burckhalter Elementary                | 82                    | 50           | 66.22        | 16.22                             | 3994 Burckhalter Avenue      | Oakland       | 94605-2616 | CA    | 37.775578 | -122.16679 | 3         | 1             | 3\n",
              "Oakland Unified       | Grass Valley Elementary               | 73.6                  | 44.4444      | 63.78        | 19.3356                           | 4720 Dunkirk Avenue          | Oakland       | 94605-5607 | CA    | 37.75301  | -122.12585 | 3         | 1             | 3\n",
              "Oakland Unified       | Martin Luther King, Jr. Elementary    | 89.4                  | 50           | 60.36        | 10.36                             | 960 Tenth Street             | Oakland       | 94607-3106 | CA    | 37.80568  | -122.28298 | 3         | 1             | 3\n",
              "Oakland Unified       | Howard Elementary                     | 80.2                  | 47.0588      | 55.93        | 8.87118                           | 8755 Fontaine Street         | Oakland       | 94605-4197 | CA    | 37.76215  | -122.15135 | 3         | 1             | 3\n",
              "San Francisco Unified | Carver (George Washington) Elementary | 82                    | 50           | 53.13        | 3.13                              | 1360 Oakdale Avenue          | San Francisco | 94124-2724 | CA    | 37.732403 | -122.38638 | 3         | 1             | 3\n",
              "Oakland Unified       | Carl B. Munck Elementary              | 66.4                  | 47.0588      | 51.29        | 4.23118                           | 11900 Campus Drive           | Oakland       | 94619-3104 | CA    | 37.794753 | -122.17382 | 2         | 1             | 3\n",
              "Oakland Unified       | Parker Elementary                     | 86.6                  | 42.8571      | 50           | 7.14286                           | 7929 Ney Avenue              | Oakland       | 94605-3311 | CA    | 37.76564  | -122.16559 | 3         | 1             | 3\n",
              "Oakland Unified       | Piedmont Avenue Elementary            | 66.9                  | 37.5         | 48.97        | 11.47                             | 4314 Piedmont Avenue         | Oakland       | 94611-4716 | CA    | 37.829071 | -122.24879 | 2         | 1             | 3\n",
              "Oakland Unified       | Emerson Elementary                    | 65.3                  | 26.9231      | 44.27        | 17.3469                           | 4803 Lawton Avenue           | Oakland       | 94609-2208 | CA    | 37.834628 | -122.2573  | 2         | 1             | 3\n",
              "Oakland Unified       | Futures Elementary                    | 90.8                  | 31.5789      | 40.06        | 8.48105                           | 6701 International Boulevard | Oakland       | 94621-3501 | CA    | 37.761424 | -122.19188 | 3         | 1             | 3\n",
              "... (92 rows omitted)"
            ]
          },
          "metadata": {
            "tags": []
          },
          "execution_count": 10
        }
      ]
    },
    {
      "cell_type": "code",
      "metadata": {
        "id": "4m6CQHqN4KKk"
      },
      "source": [
        "final_table = impact_final\n",
        "\n",
        "weight = make_array()"
      ],
      "execution_count": null,
      "outputs": []
    },
    {
      "cell_type": "code",
      "metadata": {
        "colab": {
          "base_uri": "https://localhost:8080/",
          "height": 799
        },
        "id": "02phQi7k4bEn",
        "outputId": "f91a519e-cc5f-4f64-c8ce-e62c4c41c885"
      },
      "source": [
        "final_table"
      ],
      "execution_count": null,
      "outputs": [
        {
          "output_type": "execute_result",
          "data": {
            "text/html": [
              "<table border=\"1\" class=\"dataframe\">\n",
              "    <thead>\n",
              "        <tr>\n",
              "            <th>District</th> <th>School</th> <th>Free/Reduced Lunch(%)</th> <th>Teachers (%)</th> <th>Students (%)</th> <th>Difference: Student - Teacher (%)</th> <th>Street</th> <th>City</th> <th>Zip</th> <th>State</th> <th>Latitude</th> <th>Longitude</th> <th>FOR Score</th> <th>Teacher Score</th> <th>Impact Score</th>\n",
              "        </tr>\n",
              "    </thead>\n",
              "    <tbody>\n",
              "        <tr>\n",
              "            <td>Oakland Unified      </td> <td>Burckhalter Elementary               </td> <td>82                   </td> <td>50          </td> <td>66.22       </td> <td>16.22                            </td> <td>3994 Burckhalter Avenue     </td> <td>Oakland      </td> <td>94605-2616</td> <td>CA   </td> <td>37.775578</td> <td>-122.16679</td> <td>3        </td> <td>1            </td> <td>3           </td>\n",
              "        </tr>\n",
              "        <tr>\n",
              "            <td>Oakland Unified      </td> <td>Grass Valley Elementary              </td> <td>73.6                 </td> <td>44.4444     </td> <td>63.78       </td> <td>19.3356                          </td> <td>4720 Dunkirk Avenue         </td> <td>Oakland      </td> <td>94605-5607</td> <td>CA   </td> <td>37.75301 </td> <td>-122.12585</td> <td>3        </td> <td>1            </td> <td>3           </td>\n",
              "        </tr>\n",
              "        <tr>\n",
              "            <td>Oakland Unified      </td> <td>Martin Luther King, Jr. Elementary   </td> <td>89.4                 </td> <td>50          </td> <td>60.36       </td> <td>10.36                            </td> <td>960 Tenth Street            </td> <td>Oakland      </td> <td>94607-3106</td> <td>CA   </td> <td>37.80568 </td> <td>-122.28298</td> <td>3        </td> <td>1            </td> <td>3           </td>\n",
              "        </tr>\n",
              "        <tr>\n",
              "            <td>Oakland Unified      </td> <td>Howard Elementary                    </td> <td>80.2                 </td> <td>47.0588     </td> <td>55.93       </td> <td>8.87118                          </td> <td>8755 Fontaine Street        </td> <td>Oakland      </td> <td>94605-4197</td> <td>CA   </td> <td>37.76215 </td> <td>-122.15135</td> <td>3        </td> <td>1            </td> <td>3           </td>\n",
              "        </tr>\n",
              "        <tr>\n",
              "            <td>San Francisco Unified</td> <td>Carver (George Washington) Elementary</td> <td>82                   </td> <td>50          </td> <td>53.13       </td> <td>3.13                             </td> <td>1360 Oakdale Avenue         </td> <td>San Francisco</td> <td>94124-2724</td> <td>CA   </td> <td>37.732403</td> <td>-122.38638</td> <td>3        </td> <td>1            </td> <td>3           </td>\n",
              "        </tr>\n",
              "        <tr>\n",
              "            <td>Oakland Unified      </td> <td>Carl B. Munck Elementary             </td> <td>66.4                 </td> <td>47.0588     </td> <td>51.29       </td> <td>4.23118                          </td> <td>11900 Campus Drive          </td> <td>Oakland      </td> <td>94619-3104</td> <td>CA   </td> <td>37.794753</td> <td>-122.17382</td> <td>2        </td> <td>1            </td> <td>3           </td>\n",
              "        </tr>\n",
              "        <tr>\n",
              "            <td>Oakland Unified      </td> <td>Parker Elementary                    </td> <td>86.6                 </td> <td>42.8571     </td> <td>50          </td> <td>7.14286                          </td> <td>7929 Ney Avenue             </td> <td>Oakland      </td> <td>94605-3311</td> <td>CA   </td> <td>37.76564 </td> <td>-122.16559</td> <td>3        </td> <td>1            </td> <td>3           </td>\n",
              "        </tr>\n",
              "        <tr>\n",
              "            <td>Oakland Unified      </td> <td>Piedmont Avenue Elementary           </td> <td>66.9                 </td> <td>37.5        </td> <td>48.97       </td> <td>11.47                            </td> <td>4314 Piedmont Avenue        </td> <td>Oakland      </td> <td>94611-4716</td> <td>CA   </td> <td>37.829071</td> <td>-122.24879</td> <td>2        </td> <td>1            </td> <td>3           </td>\n",
              "        </tr>\n",
              "        <tr>\n",
              "            <td>Oakland Unified      </td> <td>Emerson Elementary                   </td> <td>65.3                 </td> <td>26.9231     </td> <td>44.27       </td> <td>17.3469                          </td> <td>4803 Lawton Avenue          </td> <td>Oakland      </td> <td>94609-2208</td> <td>CA   </td> <td>37.834628</td> <td>-122.2573 </td> <td>2        </td> <td>1            </td> <td>3           </td>\n",
              "        </tr>\n",
              "        <tr>\n",
              "            <td>Oakland Unified      </td> <td>Futures Elementary                   </td> <td>90.8                 </td> <td>31.5789     </td> <td>40.06       </td> <td>8.48105                          </td> <td>6701 International Boulevard</td> <td>Oakland      </td> <td>94621-3501</td> <td>CA   </td> <td>37.761424</td> <td>-122.19188</td> <td>3        </td> <td>1            </td> <td>3           </td>\n",
              "        </tr>\n",
              "    </tbody>\n",
              "</table>\n",
              "<p>... (92 rows omitted)</p>"
            ],
            "text/plain": [
              "District              | School                                | Free/Reduced Lunch(%) | Teachers (%) | Students (%) | Difference: Student - Teacher (%) | Street                       | City          | Zip        | State | Latitude  | Longitude  | FOR Score | Teacher Score | Impact Score\n",
              "Oakland Unified       | Burckhalter Elementary                | 82                    | 50           | 66.22        | 16.22                             | 3994 Burckhalter Avenue      | Oakland       | 94605-2616 | CA    | 37.775578 | -122.16679 | 3         | 1             | 3\n",
              "Oakland Unified       | Grass Valley Elementary               | 73.6                  | 44.4444      | 63.78        | 19.3356                           | 4720 Dunkirk Avenue          | Oakland       | 94605-5607 | CA    | 37.75301  | -122.12585 | 3         | 1             | 3\n",
              "Oakland Unified       | Martin Luther King, Jr. Elementary    | 89.4                  | 50           | 60.36        | 10.36                             | 960 Tenth Street             | Oakland       | 94607-3106 | CA    | 37.80568  | -122.28298 | 3         | 1             | 3\n",
              "Oakland Unified       | Howard Elementary                     | 80.2                  | 47.0588      | 55.93        | 8.87118                           | 8755 Fontaine Street         | Oakland       | 94605-4197 | CA    | 37.76215  | -122.15135 | 3         | 1             | 3\n",
              "San Francisco Unified | Carver (George Washington) Elementary | 82                    | 50           | 53.13        | 3.13                              | 1360 Oakdale Avenue          | San Francisco | 94124-2724 | CA    | 37.732403 | -122.38638 | 3         | 1             | 3\n",
              "Oakland Unified       | Carl B. Munck Elementary              | 66.4                  | 47.0588      | 51.29        | 4.23118                           | 11900 Campus Drive           | Oakland       | 94619-3104 | CA    | 37.794753 | -122.17382 | 2         | 1             | 3\n",
              "Oakland Unified       | Parker Elementary                     | 86.6                  | 42.8571      | 50           | 7.14286                           | 7929 Ney Avenue              | Oakland       | 94605-3311 | CA    | 37.76564  | -122.16559 | 3         | 1             | 3\n",
              "Oakland Unified       | Piedmont Avenue Elementary            | 66.9                  | 37.5         | 48.97        | 11.47                             | 4314 Piedmont Avenue         | Oakland       | 94611-4716 | CA    | 37.829071 | -122.24879 | 2         | 1             | 3\n",
              "Oakland Unified       | Emerson Elementary                    | 65.3                  | 26.9231      | 44.27        | 17.3469                           | 4803 Lawton Avenue           | Oakland       | 94609-2208 | CA    | 37.834628 | -122.2573  | 2         | 1             | 3\n",
              "Oakland Unified       | Futures Elementary                    | 90.8                  | 31.5789      | 40.06        | 8.48105                           | 6701 International Boulevard | Oakland       | 94621-3501 | CA    | 37.761424 | -122.19188 | 3         | 1             | 3\n",
              "... (92 rows omitted)"
            ]
          },
          "metadata": {
            "tags": []
          },
          "execution_count": 12
        }
      ]
    },
    {
      "cell_type": "code",
      "metadata": {
        "colab": {
          "base_uri": "https://localhost:8080/"
        },
        "id": "WS0Al8ox4lv7",
        "outputId": "69b4cd94-6d6d-48cc-81f0-284dd617d061"
      },
      "source": [
        "final_table_weight_array = make_array()\n",
        "\n",
        "for row in np.arange(final_table.num_rows):\n",
        "  for_weight = final_table.column(\"FOR Score\").item(row) * 2\n",
        "  prob_weight = final_table.column(\"Teacher Score\").item(row) * 5\n",
        "  impact_weight = final_table.column(\"Impact Score\").item(row) *3\n",
        "\n",
        "  total_weight = for_weight + prob_weight + impact_weight\n",
        "\n",
        "  final_table_weight_array = np.append(final_table_weight_array, total_weight)\n",
        "\n",
        "final_table_weight_array"
      ],
      "execution_count": null,
      "outputs": [
        {
          "output_type": "execute_result",
          "data": {
            "text/plain": [
              "array([20., 20., 20., 20., 20., 18., 20., 18., 18., 20., 20., 20., 28.,\n",
              "       20., 20., 25., 20., 20., 20., 20., 30., 25., 21., 20., 30., 20.,\n",
              "       23., 23., 30., 20., 20., 13., 13., 18., 25., 13., 18., 22., 18.,\n",
              "       22., 17., 25., 17., 25., 20., 18., 23., 13., 20., 27., 22., 18.,\n",
              "       17., 23., 20., 20., 23., 13., 18., 25., 22., 24., 24., 15., 17.,\n",
              "       17., 20., 19., 19., 15., 12., 20., 20., 22., 22., 20., 17., 22.,\n",
              "       20., 20., 22., 22., 15., 20., 20., 15., 20., 17., 22., 22., 20.,\n",
              "       22., 20., 20., 22., 20., 22., 22., 22., 22., 19., 20.])"
            ]
          },
          "metadata": {
            "tags": []
          },
          "execution_count": 13
        }
      ]
    },
    {
      "cell_type": "code",
      "metadata": {
        "id": "eZAwFB_aTe2t"
      },
      "source": [
        "# calculating the final score based on the weights and displaying the final table\n",
        "final_table_weight = final_table.with_column(\"School Weight\", final_table_weight_array)\n",
        "final_weight_score = final_table_weight.with_column(\"Overall School Score\", final_table_weight.column(\"School Weight\")/30)"
      ],
      "execution_count": null,
      "outputs": []
    },
    {
      "cell_type": "code",
      "metadata": {
        "id": "z-L5e-sJXxnU"
      },
      "source": [
        "Final_UEA_Table = final_weight_score.sort(\"Overall School Score\", descending = True).drop(\"FOR Score\").drop(\"Teacher Score\").drop(\"Impact Score\").drop(\"School Weight\")"
      ],
      "execution_count": null,
      "outputs": []
    },
    {
      "cell_type": "code",
      "metadata": {
        "colab": {
          "base_uri": "https://localhost:8080/",
          "height": 762
        },
        "id": "SwwojRWrAyWu",
        "outputId": "c6c012e7-48e7-4293-9b82-c811308b5a18"
      },
      "source": [
        "Final_UEA_Table"
      ],
      "execution_count": null,
      "outputs": [
        {
          "output_type": "execute_result",
          "data": {
            "text/html": [
              "<table border=\"1\" class=\"dataframe\">\n",
              "    <thead>\n",
              "        <tr>\n",
              "            <th>District</th> <th>School</th> <th>Free/Reduced Lunch(%)</th> <th>Teachers (%)</th> <th>Students (%)</th> <th>Difference: Student - Teacher (%)</th> <th>Street</th> <th>City</th> <th>Zip</th> <th>State</th> <th>Latitude</th> <th>Longitude</th> <th>Overall School Score</th>\n",
              "        </tr>\n",
              "    </thead>\n",
              "    <tbody>\n",
              "        <tr>\n",
              "            <td>San Francisco Unified</td> <td>Cleveland Elementary            </td> <td>70.9                 </td> <td>0           </td> <td>17.13       </td> <td>17.13                            </td> <td>455 Athens Street       </td> <td>San Francisco</td> <td>94112-2801</td> <td>CA   </td> <td>37.720733</td> <td>-122.42904</td> <td>1                   </td>\n",
              "        </tr>\n",
              "        <tr>\n",
              "            <td>San Francisco Unified</td> <td>Garfield Elementary             </td> <td>84.3                 </td> <td>0           </td> <td>19.07       </td> <td>19.07                            </td> <td>420 Filbert Street      </td> <td>San Francisco</td> <td>94133-3002</td> <td>CA   </td> <td>37.8018  </td> <td>-122.40673</td> <td>1                   </td>\n",
              "        </tr>\n",
              "        <tr>\n",
              "            <td>San Francisco Unified</td> <td>Harte (Bret) Elementary         </td> <td>74.2                 </td> <td>0           </td> <td>23.96       </td> <td>23.96                            </td> <td>1035 Gilman Avenue      </td> <td>San Francisco</td> <td>94124-3710</td> <td>CA   </td> <td>37.71861 </td> <td>-122.38889</td> <td>1                   </td>\n",
              "        </tr>\n",
              "        <tr>\n",
              "            <td>San Francisco Unified</td> <td>Cobb (William L.) Elementary    </td> <td>56.6                 </td> <td>0           </td> <td>30.88       </td> <td>30.88                            </td> <td>2725 California Street  </td> <td>San Francisco</td> <td>94115-2513</td> <td>CA   </td> <td>37.788174</td> <td>-122.43918</td> <td>0.933333            </td>\n",
              "        </tr>\n",
              "        <tr>\n",
              "            <td>San Francisco Unified</td> <td>Hillcrest Elementary            </td> <td>73.3                 </td> <td>0           </td> <td>9.64        </td> <td>9.64                             </td> <td>810 Silver Avenue       </td> <td>San Francisco</td> <td>94134-1012</td> <td>CA   </td> <td>37.729026</td> <td>-122.41924</td> <td>0.9                 </td>\n",
              "        </tr>\n",
              "        <tr>\n",
              "            <td>San Francisco Unified</td> <td>Redding Elementary              </td> <td>56.4                 </td> <td>0           </td> <td>7.2         </td> <td>7.2                              </td> <td>1421 Pine Street        </td> <td>San Francisco</td> <td>94109-4719</td> <td>CA   </td> <td>37.789726</td> <td>-122.41921</td> <td>0.833333            </td>\n",
              "        </tr>\n",
              "        <tr>\n",
              "            <td>San Francisco Unified</td> <td>Flynn (Leonard R.) Elementary   </td> <td>53.9                 </td> <td>0           </td> <td>11.14       </td> <td>11.14                            </td> <td>3125 Cesar Chavez Street</td> <td>San Francisco</td> <td>94110-4722</td> <td>CA   </td> <td>37.74819 </td> <td>-122.41203</td> <td>0.833333            </td>\n",
              "        </tr>\n",
              "        <tr>\n",
              "            <td>San Francisco Unified</td> <td>Lakeshore Alternative Elementary</td> <td>44.4                 </td> <td>0           </td> <td>11.29       </td> <td>11.29                            </td> <td>220 Middlefield Drive   </td> <td>San Francisco</td> <td>94132-1418</td> <td>CA   </td> <td>37.730603</td> <td>-122.48615</td> <td>0.833333            </td>\n",
              "        </tr>\n",
              "        <tr>\n",
              "            <td>San Francisco Unified</td> <td>King (Thomas Starr) Elementary  </td> <td>40.2                 </td> <td>0           </td> <td>14.66       </td> <td>14.66                            </td> <td>1215 Carolina Street    </td> <td>San Francisco</td> <td>94107-3322</td> <td>CA   </td> <td>37.752765</td> <td>-122.39935</td> <td>0.833333            </td>\n",
              "        </tr>\n",
              "        <tr>\n",
              "            <td>Oakland Unified      </td> <td>East Oakland Pride Elementary   </td> <td>87                   </td> <td>11.1111     </td> <td>22.25       </td> <td>11.1389                          </td> <td>8000 Birch Street       </td> <td>Oakland      </td> <td>94621-2123</td> <td>CA   </td> <td>37.759065</td> <td>-122.17445</td> <td>0.833333            </td>\n",
              "        </tr>\n",
              "    </tbody>\n",
              "</table>\n",
              "<p>... (92 rows omitted)</p>"
            ],
            "text/plain": [
              "District              | School                           | Free/Reduced Lunch(%) | Teachers (%) | Students (%) | Difference: Student - Teacher (%) | Street                   | City          | Zip        | State | Latitude  | Longitude  | Overall School Score\n",
              "San Francisco Unified | Cleveland Elementary             | 70.9                  | 0            | 17.13        | 17.13                             | 455 Athens Street        | San Francisco | 94112-2801 | CA    | 37.720733 | -122.42904 | 1\n",
              "San Francisco Unified | Garfield Elementary              | 84.3                  | 0            | 19.07        | 19.07                             | 420 Filbert Street       | San Francisco | 94133-3002 | CA    | 37.8018   | -122.40673 | 1\n",
              "San Francisco Unified | Harte (Bret) Elementary          | 74.2                  | 0            | 23.96        | 23.96                             | 1035 Gilman Avenue       | San Francisco | 94124-3710 | CA    | 37.71861  | -122.38889 | 1\n",
              "San Francisco Unified | Cobb (William L.) Elementary     | 56.6                  | 0            | 30.88        | 30.88                             | 2725 California Street   | San Francisco | 94115-2513 | CA    | 37.788174 | -122.43918 | 0.933333\n",
              "San Francisco Unified | Hillcrest Elementary             | 73.3                  | 0            | 9.64         | 9.64                              | 810 Silver Avenue        | San Francisco | 94134-1012 | CA    | 37.729026 | -122.41924 | 0.9\n",
              "San Francisco Unified | Redding Elementary               | 56.4                  | 0            | 7.2          | 7.2                               | 1421 Pine Street         | San Francisco | 94109-4719 | CA    | 37.789726 | -122.41921 | 0.833333\n",
              "San Francisco Unified | Flynn (Leonard R.) Elementary    | 53.9                  | 0            | 11.14        | 11.14                             | 3125 Cesar Chavez Street | San Francisco | 94110-4722 | CA    | 37.74819  | -122.41203 | 0.833333\n",
              "San Francisco Unified | Lakeshore Alternative Elementary | 44.4                  | 0            | 11.29        | 11.29                             | 220 Middlefield Drive    | San Francisco | 94132-1418 | CA    | 37.730603 | -122.48615 | 0.833333\n",
              "San Francisco Unified | King (Thomas Starr) Elementary   | 40.2                  | 0            | 14.66        | 14.66                             | 1215 Carolina Street     | San Francisco | 94107-3322 | CA    | 37.752765 | -122.39935 | 0.833333\n",
              "Oakland Unified       | East Oakland Pride Elementary    | 87                    | 11.1111      | 22.25        | 11.1389                           | 8000 Birch Street        | Oakland       | 94621-2123 | CA    | 37.759065 | -122.17445 | 0.833333\n",
              "... (92 rows omitted)"
            ]
          },
          "metadata": {
            "tags": []
          },
          "execution_count": 26
        }
      ]
    },
    {
      "cell_type": "code",
      "metadata": {
        "colab": {
          "base_uri": "https://localhost:8080/",
          "height": 17
        },
        "id": "zjGYJ6SEWt4D",
        "outputId": "285b65f2-4b63-40c9-90f9-a54c9ea19d2b"
      },
      "source": [
        "Final_UEA_Table.to_df().to_csv('Final_UEA_Table.csv', index = False)\n",
        "files.download('Final_UEA_Table.csv')"
      ],
      "execution_count": null,
      "outputs": [
        {
          "output_type": "display_data",
          "data": {
            "application/javascript": [
              "\n",
              "    async function download(id, filename, size) {\n",
              "      if (!google.colab.kernel.accessAllowed) {\n",
              "        return;\n",
              "      }\n",
              "      const div = document.createElement('div');\n",
              "      const label = document.createElement('label');\n",
              "      label.textContent = `Downloading \"${filename}\": `;\n",
              "      div.appendChild(label);\n",
              "      const progress = document.createElement('progress');\n",
              "      progress.max = size;\n",
              "      div.appendChild(progress);\n",
              "      document.body.appendChild(div);\n",
              "\n",
              "      const buffers = [];\n",
              "      let downloaded = 0;\n",
              "\n",
              "      const channel = await google.colab.kernel.comms.open(id);\n",
              "      // Send a message to notify the kernel that we're ready.\n",
              "      channel.send({})\n",
              "\n",
              "      for await (const message of channel.messages) {\n",
              "        // Send a message to notify the kernel that we're ready.\n",
              "        channel.send({})\n",
              "        if (message.buffers) {\n",
              "          for (const buffer of message.buffers) {\n",
              "            buffers.push(buffer);\n",
              "            downloaded += buffer.byteLength;\n",
              "            progress.value = downloaded;\n",
              "          }\n",
              "        }\n",
              "      }\n",
              "      const blob = new Blob(buffers, {type: 'application/binary'});\n",
              "      const a = document.createElement('a');\n",
              "      a.href = window.URL.createObjectURL(blob);\n",
              "      a.download = filename;\n",
              "      div.appendChild(a);\n",
              "      a.click();\n",
              "      div.remove();\n",
              "    }\n",
              "  "
            ],
            "text/plain": [
              "<IPython.core.display.Javascript object>"
            ]
          },
          "metadata": {
            "tags": []
          }
        },
        {
          "output_type": "display_data",
          "data": {
            "application/javascript": [
              "download(\"download_60764abc-b05f-4e14-b7f0-8d6ae1d11729\", \"final_temp_down.csv\", 16258)"
            ],
            "text/plain": [
              "<IPython.core.display.Javascript object>"
            ]
          },
          "metadata": {
            "tags": []
          }
        }
      ]
    },
    {
      "cell_type": "code",
      "metadata": {
        "id": "NmVOrnu_jN45"
      },
      "source": [],
      "execution_count": null,
      "outputs": []
    }
  ]
}
