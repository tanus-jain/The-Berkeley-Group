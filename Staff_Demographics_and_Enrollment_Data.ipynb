{
  "nbformat": 4,
  "nbformat_minor": 0,
  "metadata": {
    "colab": {
      "provenance": []
    },
    "kernelspec": {
      "name": "python3",
      "display_name": "Python 3"
    }
  },
  "cells": [
    {
      "cell_type": "code",
      "metadata": {
        "id": "S6Gr1hparqpy",
        "colab": {
          "base_uri": "https://localhost:8080/"
        },
        "outputId": "063ca6aa-bec5-4a20-b47d-333ed9b33537"
      },
      "source": [
        "from datascience import *\n",
        "import numpy as np\n",
        "import pandas as pd"
      ],
      "execution_count": null,
      "outputs": [
        {
          "output_type": "stream",
          "text": [
            "/usr/local/lib/python3.6/dist-packages/datascience/tables.py:17: MatplotlibDeprecationWarning: The 'warn' parameter of use() is deprecated since Matplotlib 3.1 and will be removed in 3.3.  If any parameter follows 'warn', they should be pass as keyword, not positionally.\n",
            "  matplotlib.use('agg', warn=False)\n",
            "/usr/local/lib/python3.6/dist-packages/datascience/util.py:10: MatplotlibDeprecationWarning: The 'warn' parameter of use() is deprecated since Matplotlib 3.1 and will be removed in 3.3.  If any parameter follows 'warn', they should be pass as keyword, not positionally.\n",
            "  matplotlib.use('agg', warn=False)\n"
          ],
          "name": "stderr"
        }
      ]
    },
    {
      "cell_type": "code",
      "metadata": {
        "id": "AJuTQizcszXC"
      },
      "source": [
        "staff_demographics_table = Table.read_table('Staff Demographics.csv') # create a table of the staff demographics\n",
        "staff_demographics_table"
      ],
      "execution_count": null,
      "outputs": []
    },
    {
      "cell_type": "code",
      "metadata": {
        "id": "gNycawESFYDH",
        "colab": {
          "base_uri": "https://localhost:8080/",
          "height": 582
        },
        "outputId": "f4264c06-d67f-4bac-e1d3-1edcd1678d3c"
      },
      "source": [
        "# Drop the columns that we do not need\n",
        "staff_updated = staff_demographics_table.drop(np.arange(3, 8)).drop(np.arange(4,7))\n",
        "school_districts = [\"Albany City Unified\", \"Alameda Unified\", \"Berkeley Unified\", \"Castro Valley Unified\", \"Dublin Unified\",\n",
        "                    \"Emery Unified\", \"Fremont Unified\", \"Hayward Unified\", \"Livermore Unified\", \"Mountain House Elementary\",\n",
        "                    \"New Haven Unified\", \"Newark Unified\", \"Oakland Unified\", \"Piedmont Unified\", \"Pleasanton Unified\", \"San Leandro Unified\",\n",
        "                    \"San Lorenzo Unified\", \"Sunol Glen Unified\", \"San Francisco Unified\"] # school districts in Alameda and San Francisco County (can also narrow this down to only Oakland and San Fran)\n",
        "oakland_san_fran = [\"Oakland Unified\", \"San Francisco Unified\"] # the districts that we want to focus on right now\n",
        "staff_updated = staff_updated.where(\"District\", are.contained_in(oakland_san_fran))\n",
        "staff_updated = staff_updated.relabel(\"African American not Hispanic\", \"African American\")\n",
        "staff_updated.show(15)"
      ],
      "execution_count": null,
      "outputs": [
        {
          "output_type": "stream",
          "text": [
            "/usr/local/lib/python3.6/dist-packages/datascience/tables.py:699: FutureWarning: elementwise comparison failed; returning scalar instead, but in the future will perform elementwise comparison\n",
            "  if i not in exclude and c not in exclude])\n"
          ],
          "name": "stderr"
        },
        {
          "output_type": "display_data",
          "data": {
            "text/html": [
              "<table border=\"1\" class=\"dataframe\">\n",
              "    <thead>\n",
              "        <tr>\n",
              "            <th>CDS</th> <th>District</th> <th>School</th> <th>African American</th> <th>Total</th>\n",
              "        </tr>\n",
              "    </thead>\n",
              "    <tbody>\n",
              "        <tr>\n",
              "            <td>1.61259e+12</td> <td>Oakland Unified</td> <td>Achieve Academy                                 </td> <td>2               </td> <td>37   </td>\n",
              "        </tr>\n",
              "        <tr>\n",
              "            <td>1.6126e+12 </td> <td>Oakland Unified</td> <td>ACORN Woodland Elementary                       </td> <td>1               </td> <td>20   </td>\n",
              "        </tr>\n",
              "        <tr>\n",
              "            <td>1.6126e+12 </td> <td>Oakland Unified</td> <td>Allendale Elementary                            </td> <td>6               </td> <td>25   </td>\n",
              "        </tr>\n",
              "        <tr>\n",
              "            <td>1.61259e+12</td> <td>Oakland Unified</td> <td>Alliance Academy                                </td> <td>8               </td> <td>23   </td>\n",
              "        </tr>\n",
              "        <tr>\n",
              "            <td>1.6126e+12 </td> <td>Oakland Unified</td> <td>American Indian Public Charter                  </td> <td>0               </td> <td>13   </td>\n",
              "        </tr>\n",
              "        <tr>\n",
              "            <td>1.61259e+12</td> <td>Oakland Unified</td> <td>American Indian Public Charter II               </td> <td>5               </td> <td>43   </td>\n",
              "        </tr>\n",
              "        <tr>\n",
              "            <td>1.61259e+12</td> <td>Oakland Unified</td> <td>American Indian Public High                     </td> <td>1               </td> <td>18   </td>\n",
              "        </tr>\n",
              "        <tr>\n",
              "            <td>1.61259e+12</td> <td>Oakland Unified</td> <td>ARISE High                                      </td> <td>1               </td> <td>17   </td>\n",
              "        </tr>\n",
              "        <tr>\n",
              "            <td>1.6126e+12 </td> <td>Oakland Unified</td> <td>ASCEND                                          </td> <td>1               </td> <td>26   </td>\n",
              "        </tr>\n",
              "        <tr>\n",
              "            <td>1.61259e+12</td> <td>Oakland Unified</td> <td>Aspire Berkley Maynard Academy                  </td> <td>5               </td> <td>23   </td>\n",
              "        </tr>\n",
              "        <tr>\n",
              "            <td>1.61259e+12</td> <td>Oakland Unified</td> <td>Aspire College Academy                          </td> <td>0               </td> <td>10   </td>\n",
              "        </tr>\n",
              "        <tr>\n",
              "            <td>1.61259e+12</td> <td>Oakland Unified</td> <td>Aspire ERES Academy                             </td> <td>2               </td> <td>11   </td>\n",
              "        </tr>\n",
              "        <tr>\n",
              "            <td>1.61259e+12</td> <td>Oakland Unified</td> <td>Aspire Golden State College Preparatory Academy </td> <td>6               </td> <td>23   </td>\n",
              "        </tr>\n",
              "        <tr>\n",
              "            <td>1.61259e+12</td> <td>Oakland Unified</td> <td>Aspire Lionel Wilson College Preparatory Academy</td> <td>4               </td> <td>21   </td>\n",
              "        </tr>\n",
              "        <tr>\n",
              "            <td>1.6126e+12 </td> <td>Oakland Unified</td> <td>Aspire Monarch Academy                          </td> <td>0               </td> <td>19   </td>\n",
              "        </tr>\n",
              "    </tbody>\n",
              "</table>\n",
              "<p>... (228 rows omitted)</p>"
            ],
            "text/plain": [
              "<IPython.core.display.HTML object>"
            ]
          },
          "metadata": {
            "tags": []
          }
        }
      ]
    },
    {
      "cell_type": "code",
      "metadata": {
        "id": "na2Pdr99VNyR",
        "colab": {
          "base_uri": "https://localhost:8080/",
          "height": 376
        },
        "outputId": "3ed99ff9-2006-4c88-9561-7bd9d7c6730d"
      },
      "source": [
        "# calculate the percentage\n",
        "staff_updated = staff_updated.with_column(\"Percentage Teachers\",\n",
        "                                          (staff_updated.column(\"African American\")/staff_updated.column(\"Total\"))*100)\n",
        "final_staff = staff_updated.sort(\"Percentage Teachers\").drop(0,3,4).where(\"School\", are.containing(\"Elementary\"))\n",
        "final_staff"
      ],
      "execution_count": null,
      "outputs": [
        {
          "output_type": "execute_result",
          "data": {
            "text/html": [
              "<table border=\"1\" class=\"dataframe\">\n",
              "    <thead>\n",
              "        <tr>\n",
              "            <th>District</th> <th>School</th> <th>Percentage Teachers</th>\n",
              "        </tr>\n",
              "    </thead>\n",
              "    <tbody>\n",
              "        <tr>\n",
              "            <td>San Francisco Unified</td> <td>Alamo Elementary                </td> <td>0                  </td>\n",
              "        </tr>\n",
              "        <tr>\n",
              "            <td>San Francisco Unified</td> <td>Alvarado Elementary             </td> <td>0                  </td>\n",
              "        </tr>\n",
              "        <tr>\n",
              "            <td>San Francisco Unified</td> <td>Bryant Elementary               </td> <td>0                  </td>\n",
              "        </tr>\n",
              "        <tr>\n",
              "            <td>San Francisco Unified</td> <td>Chavez (Cesar) Elementary       </td> <td>0                  </td>\n",
              "        </tr>\n",
              "        <tr>\n",
              "            <td>San Francisco Unified</td> <td>Chin (John Yehall) Elementary   </td> <td>0                  </td>\n",
              "        </tr>\n",
              "        <tr>\n",
              "            <td>San Francisco Unified</td> <td>Clarendon Alternative Elementary</td> <td>0                  </td>\n",
              "        </tr>\n",
              "        <tr>\n",
              "            <td>San Francisco Unified</td> <td>Cleveland Elementary            </td> <td>0                  </td>\n",
              "        </tr>\n",
              "        <tr>\n",
              "            <td>San Francisco Unified</td> <td>Cobb (William L.) Elementary    </td> <td>0                  </td>\n",
              "        </tr>\n",
              "        <tr>\n",
              "            <td>San Francisco Unified</td> <td>Feinstein (Dianne) Elementary   </td> <td>0                  </td>\n",
              "        </tr>\n",
              "        <tr>\n",
              "            <td>San Francisco Unified</td> <td>Flynn (Leonard R.) Elementary   </td> <td>0                  </td>\n",
              "        </tr>\n",
              "    </tbody>\n",
              "</table>\n",
              "<p>... (93 rows omitted)</p>"
            ],
            "text/plain": [
              "District              | School                           | Percentage Teachers\n",
              "San Francisco Unified | Alamo Elementary                 | 0\n",
              "San Francisco Unified | Alvarado Elementary              | 0\n",
              "San Francisco Unified | Bryant Elementary                | 0\n",
              "San Francisco Unified | Chavez (Cesar) Elementary        | 0\n",
              "San Francisco Unified | Chin (John Yehall) Elementary    | 0\n",
              "San Francisco Unified | Clarendon Alternative Elementary | 0\n",
              "San Francisco Unified | Cleveland Elementary             | 0\n",
              "San Francisco Unified | Cobb (William L.) Elementary     | 0\n",
              "San Francisco Unified | Feinstein (Dianne) Elementary    | 0\n",
              "San Francisco Unified | Flynn (Leonard R.) Elementary    | 0\n",
              "... (93 rows omitted)"
            ]
          },
          "metadata": {
            "tags": []
          },
          "execution_count": 98
        }
      ]
    },
    {
      "cell_type": "code",
      "metadata": {
        "id": "UbLxeXatlT0I",
        "colab": {
          "base_uri": "https://localhost:8080/",
          "height": 432
        },
        "outputId": "9605d846-28e6-47b3-ca37-564f91511745"
      },
      "source": [
        "enrollment = Table.read_table('Student Enrollment final.csv') # create a table of the enrollment data\n",
        "enrollment = enrollment.drop(np.arange(0,4)).drop(np.arange(2,12)).drop(np.arange(4,11))\n",
        "enrollment_updated = enrollment.where(\"District\", are.contained_in(oakland_san_fran)).relabel(\"PctAfAm\", \"Percentage Students\").drop(2)\n",
        "enrollment_updated"
      ],
      "execution_count": null,
      "outputs": [
        {
          "output_type": "stream",
          "text": [
            "/usr/local/lib/python3.6/dist-packages/datascience/tables.py:699: FutureWarning: elementwise comparison failed; returning scalar instead, but in the future will perform elementwise comparison\n",
            "  if i not in exclude and c not in exclude])\n"
          ],
          "name": "stderr"
        },
        {
          "output_type": "execute_result",
          "data": {
            "text/html": [
              "<table border=\"1\" class=\"dataframe\">\n",
              "    <thead>\n",
              "        <tr>\n",
              "            <th>District</th> <th>School</th> <th>Percentage Students</th>\n",
              "        </tr>\n",
              "    </thead>\n",
              "    <tbody>\n",
              "        <tr>\n",
              "            <td>Oakland Unified</td> <td>Achieve Academy                  </td> <td>3.38               </td>\n",
              "        </tr>\n",
              "        <tr>\n",
              "            <td>Oakland Unified</td> <td>ACORN Woodland Elementary        </td> <td>4.63               </td>\n",
              "        </tr>\n",
              "        <tr>\n",
              "            <td>Oakland Unified</td> <td>Allendale Elementary             </td> <td>27.75              </td>\n",
              "        </tr>\n",
              "        <tr>\n",
              "            <td>Oakland Unified</td> <td>American Indian Public Charter   </td> <td>24.46              </td>\n",
              "        </tr>\n",
              "        <tr>\n",
              "            <td>Oakland Unified</td> <td>American Indian Public Charter II</td> <td>34.92              </td>\n",
              "        </tr>\n",
              "        <tr>\n",
              "            <td>Oakland Unified</td> <td>American Indian Public High      </td> <td>24.11              </td>\n",
              "        </tr>\n",
              "        <tr>\n",
              "            <td>Oakland Unified</td> <td>ARISE High                       </td> <td>1.9                </td>\n",
              "        </tr>\n",
              "        <tr>\n",
              "            <td>Oakland Unified</td> <td>ASCEND                           </td> <td>1.62               </td>\n",
              "        </tr>\n",
              "        <tr>\n",
              "            <td>Oakland Unified</td> <td>Aspire Berkley Maynard Academy   </td> <td>57.89              </td>\n",
              "        </tr>\n",
              "        <tr>\n",
              "            <td>Oakland Unified</td> <td>Aspire College Academy           </td> <td>29.01              </td>\n",
              "        </tr>\n",
              "    </tbody>\n",
              "</table>\n",
              "<p>... (231 rows omitted)</p>"
            ],
            "text/plain": [
              "District        | School                            | Percentage Students\n",
              "Oakland Unified | Achieve Academy                   | 3.38\n",
              "Oakland Unified | ACORN Woodland Elementary         | 4.63\n",
              "Oakland Unified | Allendale Elementary              | 27.75\n",
              "Oakland Unified | American Indian Public Charter    | 24.46\n",
              "Oakland Unified | American Indian Public Charter II | 34.92\n",
              "Oakland Unified | American Indian Public High       | 24.11\n",
              "Oakland Unified | ARISE High                        | 1.9\n",
              "Oakland Unified | ASCEND                            | 1.62\n",
              "Oakland Unified | Aspire Berkley Maynard Academy    | 57.89\n",
              "Oakland Unified | Aspire College Academy            | 29.01\n",
              "... (231 rows omitted)"
            ]
          },
          "metadata": {
            "tags": []
          },
          "execution_count": 99
        }
      ]
    },
    {
      "cell_type": "code",
      "metadata": {
        "id": "-ppUcNd_n5DY",
        "colab": {
          "base_uri": "https://localhost:8080/",
          "height": 376
        },
        "outputId": "47036bd7-0f13-4dbe-9b21-46f32164aed1"
      },
      "source": [
        "# combine the two tables together\n",
        "\n",
        "staff_and_students = final_staff.join(\"School\", enrollment_updated, \"School\").drop(3)\n",
        "# calculate the difference between the two percentages\n",
        "final_staff_and_students = staff_and_students.with_column(\"Difference\",\n",
        "                          staff_and_students.column(\"Percentage Students\") - staff_and_students.column(\"Percentage Teachers\")) # difference in the two percentages\n",
        "final_staff_and_students = final_staff_and_students.sort(\"Difference\", descending = True)\n",
        "final_staff_and_students"
      ],
      "execution_count": null,
      "outputs": [
        {
          "output_type": "execute_result",
          "data": {
            "text/html": [
              "<table border=\"1\" class=\"dataframe\">\n",
              "    <thead>\n",
              "        <tr>\n",
              "            <th>School</th> <th>District</th> <th>Percentage Teachers</th> <th>Percentage Students</th> <th>Difference</th>\n",
              "        </tr>\n",
              "    </thead>\n",
              "    <tbody>\n",
              "        <tr>\n",
              "            <td>Cobb (William L.) Elementary  </td> <td>San Francisco Unified</td> <td>0                  </td> <td>30.88              </td> <td>30.88     </td>\n",
              "        </tr>\n",
              "        <tr>\n",
              "            <td>Harte (Bret) Elementary       </td> <td>San Francisco Unified</td> <td>0                  </td> <td>23.96              </td> <td>23.96     </td>\n",
              "        </tr>\n",
              "        <tr>\n",
              "            <td>Grass Valley Elementary       </td> <td>Oakland Unified      </td> <td>44.4444            </td> <td>63.78              </td> <td>19.3356   </td>\n",
              "        </tr>\n",
              "        <tr>\n",
              "            <td>Garfield Elementary           </td> <td>San Francisco Unified</td> <td>0                  </td> <td>19.07              </td> <td>19.07     </td>\n",
              "        </tr>\n",
              "        <tr>\n",
              "            <td>El Dorado Elementary          </td> <td>San Francisco Unified</td> <td>9.09091            </td> <td>27.39              </td> <td>18.2991   </td>\n",
              "        </tr>\n",
              "        <tr>\n",
              "            <td>Emerson Elementary            </td> <td>Oakland Unified      </td> <td>26.9231            </td> <td>44.27              </td> <td>17.3469   </td>\n",
              "        </tr>\n",
              "        <tr>\n",
              "            <td>Cleveland Elementary          </td> <td>San Francisco Unified</td> <td>0                  </td> <td>17.13              </td> <td>17.13     </td>\n",
              "        </tr>\n",
              "        <tr>\n",
              "            <td>Burckhalter Elementary        </td> <td>Oakland Unified      </td> <td>50                 </td> <td>66.22              </td> <td>16.22     </td>\n",
              "        </tr>\n",
              "        <tr>\n",
              "            <td>King (Thomas Starr) Elementary</td> <td>San Francisco Unified</td> <td>0                  </td> <td>14.66              </td> <td>14.66     </td>\n",
              "        </tr>\n",
              "        <tr>\n",
              "            <td>Kaiser Elementary             </td> <td>Oakland Unified      </td> <td>7.14286            </td> <td>21.13              </td> <td>13.9871   </td>\n",
              "        </tr>\n",
              "    </tbody>\n",
              "</table>\n",
              "<p>... (98 rows omitted)</p>"
            ],
            "text/plain": [
              "School                         | District              | Percentage Teachers | Percentage Students | Difference\n",
              "Cobb (William L.) Elementary   | San Francisco Unified | 0                   | 30.88               | 30.88\n",
              "Harte (Bret) Elementary        | San Francisco Unified | 0                   | 23.96               | 23.96\n",
              "Grass Valley Elementary        | Oakland Unified       | 44.4444             | 63.78               | 19.3356\n",
              "Garfield Elementary            | San Francisco Unified | 0                   | 19.07               | 19.07\n",
              "El Dorado Elementary           | San Francisco Unified | 9.09091             | 27.39               | 18.2991\n",
              "Emerson Elementary             | Oakland Unified       | 26.9231             | 44.27               | 17.3469\n",
              "Cleveland Elementary           | San Francisco Unified | 0                   | 17.13               | 17.13\n",
              "Burckhalter Elementary         | Oakland Unified       | 50                  | 66.22               | 16.22\n",
              "King (Thomas Starr) Elementary | San Francisco Unified | 0                   | 14.66               | 14.66\n",
              "Kaiser Elementary              | Oakland Unified       | 7.14286             | 21.13               | 13.9871\n",
              "... (98 rows omitted)"
            ]
          },
          "metadata": {
            "tags": []
          },
          "execution_count": 100
        }
      ]
    },
    {
      "cell_type": "code",
      "metadata": {
        "id": "8RS5P_3GUS7v",
        "colab": {
          "base_uri": "https://localhost:8080/",
          "height": 292
        },
        "outputId": "9cc5c14a-1821-4ddf-e1f9-e693d2962b31"
      },
      "source": [
        "school_addresses = Table.read_table('School Addresses.csv') # create a table of the school addresses\n",
        "school_addresses.show(2)"
      ],
      "execution_count": null,
      "outputs": [
        {
          "output_type": "stream",
          "text": [
            "/usr/local/lib/python3.6/dist-packages/IPython/core/interactiveshell.py:2882: DtypeWarning: Columns (0) have mixed types.Specify dtype option on import or set low_memory=False.\n",
            "  exec(code_obj, self.user_global_ns, self.user_ns)\n"
          ],
          "name": "stderr"
        },
        {
          "output_type": "display_data",
          "data": {
            "text/html": [
              "<table border=\"1\" class=\"dataframe\">\n",
              "    <thead>\n",
              "        <tr>\n",
              "            <th>CDSCode</th> <th>NCESDist</th> <th>NCESSchool</th> <th>StatusType</th> <th>County</th> <th>District</th> <th>School</th> <th>Street</th> <th>StreetAbr</th> <th>City</th> <th>Zip</th> <th>State</th> <th>MailStreet</th> <th>MailStrAbr</th> <th>MailCity</th> <th>MailZip</th> <th>MailState</th> <th>Phone</th> <th>Ext</th> <th>FaxNumber</th> <th>Email</th> <th>WebSite</th> <th>OpenDate</th> <th>ClosedDate</th> <th>Charter</th> <th>CharterNum</th> <th>FundingType</th> <th>DOC</th> <th>DOCType</th> <th>SOC</th> <th>SOCType</th> <th>EdOpsCode</th> <th>EdOpsName</th> <th>EILCode</th> <th>EILName</th> <th>GSoffered</th> <th>GSserved</th> <th>Virtual</th> <th>Magnet</th> <th>YearRoundYN</th> <th>FederalDFCDistrictID</th> <th>Latitude</th> <th>Longitude</th> <th>AdmFName</th> <th>AdmLName</th> <th>AdmEmail</th> <th>LastUpDate</th>\n",
              "        </tr>\n",
              "    </thead>\n",
              "    <tbody>\n",
              "        <tr>\n",
              "            <td>1100170000000.0</td> <td>691051  </td> <td>No Data   </td> <td>Active    </td> <td>Alameda</td> <td>Alameda County Office of Education</td> <td>No Data            </td> <td>313 West Winton Avenue          </td> <td>313 West Winton Ave.         </td> <td>Hayward</td> <td>94544-1136</td> <td>CA   </td> <td>313 West Winton Avenue          </td> <td>313 West Winton Ave.         </td> <td>Hayward </td> <td>94544-1136</td> <td>CA       </td> <td>(510) 887-0152</td> <td>No Data</td> <td>No Data  </td> <td>No Data              </td> <td>http://www.acoe.org</td> <td>No Data </td> <td>No Data   </td> <td>No Data</td> <td>No Data   </td> <td>No Data        </td> <td>0   </td> <td>County Office of Education (COE)</td> <td>No Data</td> <td>No Data              </td> <td>No Data  </td> <td>No Data    </td> <td>No Data </td> <td>No Data                    </td> <td>No Data  </td> <td>No Data </td> <td>No Data</td> <td>No Data</td> <td>No Data    </td> <td>No Data             </td> <td>37.658212</td> <td>-122.09713</td> <td>L Karen </td> <td>Monroe  </td> <td>lkmonroe@acoe.org</td> <td>8/15/20   </td>\n",
              "        </tr>\n",
              "        <tr>\n",
              "            <td>1100170000000.0</td> <td>691051  </td> <td>10546     </td> <td>Closed    </td> <td>Alameda</td> <td>Alameda County Office of Education</td> <td>FAME Public Charter</td> <td>39899 Balentine Drive, Suite 335</td> <td>39899 Balentine Dr., Ste. 335</td> <td>Newark </td> <td>94560-5359</td> <td>CA   </td> <td>39899 Balentine Drive, Suite 335</td> <td>39899 Balentine Dr., Ste. 335</td> <td>Newark  </td> <td>94560-5359</td> <td>CA       </td> <td>No Data       </td> <td>No Data</td> <td>No Data  </td> <td>malik@famecharter.org</td> <td>No Data            </td> <td>8/29/05 </td> <td>7/31/15   </td> <td>Y      </td> <td>728       </td> <td>Directly funded</td> <td>0   </td> <td>County Office of Education (COE)</td> <td>65     </td> <td>K-12 Schools (Public)</td> <td>TRAD     </td> <td>Traditional</td> <td>ELEMHIGH</td> <td>Elementary-High Combination</td> <td>K-12     </td> <td>K-12    </td> <td>P      </td> <td>N      </td> <td>N          </td> <td>No Data             </td> <td>37.521436</td> <td>-121.99391</td> <td>No Data </td> <td>No Data </td> <td>No Data          </td> <td>9/1/15    </td>\n",
              "        </tr>\n",
              "    </tbody>\n",
              "</table>\n",
              "<p>... (18143 rows omitted)</p>"
            ],
            "text/plain": [
              "<IPython.core.display.HTML object>"
            ]
          },
          "metadata": {
            "tags": []
          }
        }
      ]
    },
    {
      "cell_type": "code",
      "metadata": {
        "id": "pIdtkJA7UpBR",
        "colab": {
          "base_uri": "https://localhost:8080/",
          "height": 543
        },
        "outputId": "e97ffc16-f70b-440d-c1e8-d25bc8ea850f"
      },
      "source": [
        "school_addresses_edited = school_addresses.select(5,6,7,8,9,10,11,41,42)\n",
        "school_addresses_edited = school_addresses_edited.where(\"District\", are.contained_in(oakland_san_fran))\n",
        "school_addresses_edited"
      ],
      "execution_count": null,
      "outputs": [
        {
          "output_type": "execute_result",
          "data": {
            "text/html": [
              "<table border=\"1\" class=\"dataframe\">\n",
              "    <thead>\n",
              "        <tr>\n",
              "            <th>District</th> <th>School</th> <th>Street</th> <th>StreetAbr</th> <th>City</th> <th>Zip</th> <th>State</th> <th>Latitude</th> <th>Longitude</th>\n",
              "        </tr>\n",
              "    </thead>\n",
              "    <tbody>\n",
              "        <tr>\n",
              "            <td>Oakland Unified</td> <td>No Data                                     </td> <td>1000 Broadway, Suite 300    </td> <td>1000 Broadway, Ste. 300   </td> <td>Oakland</td> <td>94607-4099</td> <td>CA   </td> <td>37.801387</td> <td>-122.27194</td>\n",
              "        </tr>\n",
              "        <tr>\n",
              "            <td>Oakland Unified</td> <td>Oakland Unity High                          </td> <td>6038 Brann Street           </td> <td>6038 Brann St.            </td> <td>Oakland</td> <td>94605-1544</td> <td>CA   </td> <td>37.773706</td> <td>-122.18548</td>\n",
              "        </tr>\n",
              "        <tr>\n",
              "            <td>Oakland Unified</td> <td>East Oakland Leadership Academy             </td> <td>2614 Seminary Avenue        </td> <td>2614 Seminary Ave.        </td> <td>Oakland</td> <td>94605-1570</td> <td>CA   </td> <td>37.77184 </td> <td>-122.18986</td>\n",
              "        </tr>\n",
              "        <tr>\n",
              "            <td>Oakland Unified</td> <td>ACORN Woodland Elementary                   </td> <td>1025 - 81st Avenue          </td> <td>1025 - 81st Ave.          </td> <td>Oakland</td> <td>94621     </td> <td>CA   </td> <td>No Data  </td> <td>No Data   </td>\n",
              "        </tr>\n",
              "        <tr>\n",
              "            <td>Oakland Unified</td> <td>MetWest High                                </td> <td>314 East Tenth Street       </td> <td>314 East Tenth St.        </td> <td>Oakland</td> <td>94606-2302</td> <td>CA   </td> <td>37.795107</td> <td>-122.25823</td>\n",
              "        </tr>\n",
              "        <tr>\n",
              "            <td>Oakland Unified</td> <td>The San Antonio Multicultural               </td> <td>1025 Second Avenue, Room 301</td> <td>1025 Second Ave., Room 301</td> <td>Oakland</td> <td>94606     </td> <td>CA   </td> <td>No Data  </td> <td>No Data   </td>\n",
              "        </tr>\n",
              "        <tr>\n",
              "            <td>Oakland Unified</td> <td>Think College Now                           </td> <td>2825 International Boulevard</td> <td>2825 International Blvd.  </td> <td>Oakland</td> <td>94601-1543</td> <td>CA   </td> <td>37.78008 </td> <td>-122.2305 </td>\n",
              "        </tr>\n",
              "        <tr>\n",
              "            <td>Oakland Unified</td> <td>Mandela High                                </td> <td>4610 Foothill Boulevard     </td> <td>4610 Foothill Blvd.       </td> <td>Oakland</td> <td>94601     </td> <td>CA   </td> <td>37.773786</td> <td>-122.20992</td>\n",
              "        </tr>\n",
              "        <tr>\n",
              "            <td>Oakland Unified</td> <td>Media College Preparatory                   </td> <td>4610 Foothill Boulevard     </td> <td>4610 Foothill Blvd.       </td> <td>Oakland</td> <td>94601-4618</td> <td>CA   </td> <td>37.773786</td> <td>-122.20992</td>\n",
              "        </tr>\n",
              "        <tr>\n",
              "            <td>Oakland Unified</td> <td>Robeson School of Visual and Performing Arts</td> <td>4610 Foothill Boulevard     </td> <td>4610 Foothill Blvd.       </td> <td>Oakland</td> <td>94601     </td> <td>CA   </td> <td>37.773786</td> <td>-122.20992</td>\n",
              "        </tr>\n",
              "    </tbody>\n",
              "</table>\n",
              "<p>... (460 rows omitted)</p>"
            ],
            "text/plain": [
              "District        | School                                       | Street                       | StreetAbr                  | City    | Zip        | State | Latitude  | Longitude\n",
              "Oakland Unified | No Data                                      | 1000 Broadway, Suite 300     | 1000 Broadway, Ste. 300    | Oakland | 94607-4099 | CA    | 37.801387 | -122.27194\n",
              "Oakland Unified | Oakland Unity High                           | 6038 Brann Street            | 6038 Brann St.             | Oakland | 94605-1544 | CA    | 37.773706 | -122.18548\n",
              "Oakland Unified | East Oakland Leadership Academy              | 2614 Seminary Avenue         | 2614 Seminary Ave.         | Oakland | 94605-1570 | CA    | 37.77184  | -122.18986\n",
              "Oakland Unified | ACORN Woodland Elementary                    | 1025 - 81st Avenue           | 1025 - 81st Ave.           | Oakland | 94621      | CA    | No Data   | No Data\n",
              "Oakland Unified | MetWest High                                 | 314 East Tenth Street        | 314 East Tenth St.         | Oakland | 94606-2302 | CA    | 37.795107 | -122.25823\n",
              "Oakland Unified | The San Antonio Multicultural                | 1025 Second Avenue, Room 301 | 1025 Second Ave., Room 301 | Oakland | 94606      | CA    | No Data   | No Data\n",
              "Oakland Unified | Think College Now                            | 2825 International Boulevard | 2825 International Blvd.   | Oakland | 94601-1543 | CA    | 37.78008  | -122.2305\n",
              "Oakland Unified | Mandela High                                 | 4610 Foothill Boulevard      | 4610 Foothill Blvd.        | Oakland | 94601      | CA    | 37.773786 | -122.20992\n",
              "Oakland Unified | Media College Preparatory                    | 4610 Foothill Boulevard      | 4610 Foothill Blvd.        | Oakland | 94601-4618 | CA    | 37.773786 | -122.20992\n",
              "Oakland Unified | Robeson School of Visual and Performing Arts | 4610 Foothill Boulevard      | 4610 Foothill Blvd.        | Oakland | 94601      | CA    | 37.773786 | -122.20992\n",
              "... (460 rows omitted)"
            ]
          },
          "metadata": {
            "tags": []
          },
          "execution_count": 102
        }
      ]
    },
    {
      "cell_type": "code",
      "metadata": {
        "id": "Ap-UzTIiVnWh"
      },
      "source": [
        "count = final_staff_and_students.join(\"School\", school_addresses_edited, \"School\").group(\"School\")\n",
        "count.where(\"count\", are.not_equal_to(1))\n",
        "repeats_list = [\"ACORN Woodland Elementary\", \"Jefferson Elementary\", \"Longfellow Elementary\", \"Marshall Elementary\", \"Sherman Elementary\",\n",
        "                \"Cleveland Elementary\", \"Garfield Elementary\", \"Hillcrest Elementary\"]"
      ],
      "execution_count": null,
      "outputs": []
    },
    {
      "cell_type": "code",
      "metadata": {
        "id": "OvCuquVmWOgM",
        "colab": {
          "base_uri": "https://localhost:8080/",
          "height": 1000
        },
        "outputId": "7012efed-4f2b-4440-bad5-bd4e8b9aefb3"
      },
      "source": [
        "def first(values):\n",
        "  return values.item(0)\n",
        "final_staff_and_students = final_staff_and_students.sort(\"School\").group([\"District\", \"School\"], first)\n",
        "school_addresses_edited = school_addresses_edited.sort(\"School\").group([\"District\", \"School\"], first)\n",
        "joint_tables = final_staff_and_students.join(\"School\", school_addresses_edited, \"School\")\n",
        "bad_rows = make_array()\n",
        "for row in np.arange(joint_tables.num_rows):\n",
        "  if joint_tables.column(1).item(row) != joint_tables.column(5).item(row):\n",
        "    bad_rows = np.append(bad_rows, row)\n",
        "joint_tables = joint_tables.remove(16).remove(16).remove(31).remove(31).remove(40).remove(40).remove(45).remove(\n",
        "    58).remove(61).remove(87) #,17,33,34,44,45,51,65,69,96)\n",
        "joint_tables.show()"
      ],
      "execution_count": null,
      "outputs": [
        {
          "output_type": "display_data",
          "data": {
            "text/html": [
              "<table border=\"1\" class=\"dataframe\">\n",
              "    <thead>\n",
              "        <tr>\n",
              "            <th>School</th> <th>District</th> <th>Percentage Teachers first</th> <th>Percentage Students first</th> <th>Difference first</th> <th>District_2</th> <th>Street first</th> <th>StreetAbr first</th> <th>City first</th> <th>Zip first</th> <th>State first</th> <th>Latitude first</th> <th>Longitude first</th>\n",
              "        </tr>\n",
              "    </thead>\n",
              "    <tbody>\n",
              "        <tr>\n",
              "            <td>ACORN Woodland Elementary            </td> <td>Oakland Unified      </td> <td>5                        </td> <td>4.63                     </td> <td>-0.37           </td> <td>Oakland Unified      </td> <td>1025 - 81st Avenue          </td> <td>1025 - 81st Ave.        </td> <td>Oakland      </td> <td>94621     </td> <td>CA         </td> <td>No Data       </td> <td>No Data        </td>\n",
              "        </tr>\n",
              "        <tr>\n",
              "            <td>Alamo Elementary                     </td> <td>San Francisco Unified</td> <td>0                        </td> <td>0.57                     </td> <td>0.57            </td> <td>San Francisco Unified</td> <td>250 23rd Avenue             </td> <td>250 23rd Ave.           </td> <td>San Francisco</td> <td>94121-2009</td> <td>CA         </td> <td>37.783124     </td> <td>-122.48219     </td>\n",
              "        </tr>\n",
              "        <tr>\n",
              "            <td>Allendale Elementary                 </td> <td>Oakland Unified      </td> <td>24                       </td> <td>27.75                    </td> <td>3.75            </td> <td>Oakland Unified      </td> <td>3670 Penniman Avenue        </td> <td>3670 Penniman Ave.      </td> <td>Oakland      </td> <td>94619-1116</td> <td>CA         </td> <td>37.788642     </td> <td>-122.20516     </td>\n",
              "        </tr>\n",
              "        <tr>\n",
              "            <td>Alvarado Elementary                  </td> <td>San Francisco Unified</td> <td>0                        </td> <td>1.58                     </td> <td>1.58            </td> <td>San Francisco Unified</td> <td>625 Douglas Street          </td> <td>625 Douglas St.         </td> <td>San Francisco</td> <td>94114-3140</td> <td>CA         </td> <td>37.753675     </td> <td>-122.43873     </td>\n",
              "        </tr>\n",
              "        <tr>\n",
              "            <td>Argonne Elementary                   </td> <td>San Francisco Unified</td> <td>5.26316                  </td> <td>1.55                     </td> <td>-3.71316        </td> <td>San Francisco Unified</td> <td>680 18th Avenue             </td> <td>680 18th Ave.           </td> <td>San Francisco</td> <td>94121-3818</td> <td>CA         </td> <td>37.77515      </td> <td>-122.47679     </td>\n",
              "        </tr>\n",
              "        <tr>\n",
              "            <td>Bella Vista Elementary               </td> <td>Oakland Unified      </td> <td>13.7931                  </td> <td>19.66                    </td> <td>5.8669          </td> <td>Oakland Unified      </td> <td>1025 East 28th Street       </td> <td>1025 East 28th St.      </td> <td>Oakland      </td> <td>94610-4018</td> <td>CA         </td> <td>37.800355     </td> <td>-122.23708     </td>\n",
              "        </tr>\n",
              "        <tr>\n",
              "            <td>Brookfield Elementary                </td> <td>Oakland Unified      </td> <td>26.6667                  </td> <td>24.54                    </td> <td>-2.12667        </td> <td>Oakland Unified      </td> <td>401 Jones Avenue            </td> <td>401 Jones Ave.          </td> <td>Oakland      </td> <td>94603-1123</td> <td>CA         </td> <td>37.734711     </td> <td>-122.189       </td>\n",
              "        </tr>\n",
              "        <tr>\n",
              "            <td>Bryant Elementary                    </td> <td>San Francisco Unified</td> <td>0                        </td> <td>6.41                     </td> <td>6.41            </td> <td>San Francisco Unified</td> <td>2641 25th Street            </td> <td>2641 25th St.           </td> <td>San Francisco</td> <td>94110-3514</td> <td>CA         </td> <td>37.751628     </td> <td>-122.4049      </td>\n",
              "        </tr>\n",
              "        <tr>\n",
              "            <td>Burckhalter Elementary               </td> <td>Oakland Unified      </td> <td>50                       </td> <td>66.22                    </td> <td>16.22           </td> <td>Oakland Unified      </td> <td>3994 Burckhalter Avenue     </td> <td>3994 Burckhalter Ave.   </td> <td>Oakland      </td> <td>94605-2616</td> <td>CA         </td> <td>37.775578     </td> <td>-122.16679     </td>\n",
              "        </tr>\n",
              "        <tr>\n",
              "            <td>Carl B. Munck Elementary             </td> <td>Oakland Unified      </td> <td>47.0588                  </td> <td>51.29                    </td> <td>4.23118         </td> <td>Oakland Unified      </td> <td>11900 Campus Drive          </td> <td>11900 Campus Dr.        </td> <td>Oakland      </td> <td>94619-3104</td> <td>CA         </td> <td>37.794753     </td> <td>-122.17382     </td>\n",
              "        </tr>\n",
              "        <tr>\n",
              "            <td>Carver (George Washington) Elementary</td> <td>San Francisco Unified</td> <td>50                       </td> <td>53.13                    </td> <td>3.13            </td> <td>San Francisco Unified</td> <td>1360 Oakdale Avenue         </td> <td>1360 Oakdale Ave.       </td> <td>San Francisco</td> <td>94124-2724</td> <td>CA         </td> <td>37.732403     </td> <td>-122.38638     </td>\n",
              "        </tr>\n",
              "        <tr>\n",
              "            <td>Chabot Elementary                    </td> <td>Oakland Unified      </td> <td>8.57143                  </td> <td>7.34                     </td> <td>-1.23143        </td> <td>Oakland Unified      </td> <td>6686 Chabot Road            </td> <td>6686 Chabot Rd.         </td> <td>Oakland      </td> <td>94618-1641</td> <td>CA         </td> <td>37.850664     </td> <td>-122.24293     </td>\n",
              "        </tr>\n",
              "        <tr>\n",
              "            <td>Chavez (Cesar) Elementary            </td> <td>San Francisco Unified</td> <td>0                        </td> <td>2.24                     </td> <td>2.24            </td> <td>San Francisco Unified</td> <td>825 Shotwell Street         </td> <td>825 Shotwell St.        </td> <td>San Francisco</td> <td>94110-3212</td> <td>CA         </td> <td>37.75488      </td> <td>-122.41541     </td>\n",
              "        </tr>\n",
              "        <tr>\n",
              "            <td>Chin (John Yehall) Elementary        </td> <td>San Francisco Unified</td> <td>0                        </td> <td>0.38                     </td> <td>0.38            </td> <td>San Francisco Unified</td> <td>350 Broadway Street         </td> <td>350 Broadway St.        </td> <td>San Francisco</td> <td>94133-4503</td> <td>CA         </td> <td>37.79831      </td> <td>-122.40317     </td>\n",
              "        </tr>\n",
              "        <tr>\n",
              "            <td>Clarendon Alternative Elementary     </td> <td>San Francisco Unified</td> <td>0                        </td> <td>3.11                     </td> <td>3.11            </td> <td>San Francisco Unified</td> <td>500 Clarendon Avenue        </td> <td>500 Clarendon Ave.      </td> <td>San Francisco</td> <td>94131-1113</td> <td>CA         </td> <td>37.752989     </td> <td>-122.45611     </td>\n",
              "        </tr>\n",
              "        <tr>\n",
              "            <td>Cleveland Elementary                 </td> <td>Oakland Unified      </td> <td>33.3333                  </td> <td>17.13                    </td> <td>-16.2033        </td> <td>Oakland Unified      </td> <td>745 Cleveland Street        </td> <td>745 Cleveland St.       </td> <td>Oakland      </td> <td>94606-1513</td> <td>CA         </td> <td>37.804369     </td> <td>-122.24405     </td>\n",
              "        </tr>\n",
              "        <tr>\n",
              "            <td>Cleveland Elementary                 </td> <td>San Francisco Unified</td> <td>0                        </td> <td>17.13                    </td> <td>17.13           </td> <td>San Francisco Unified</td> <td>455 Athens Street           </td> <td>455 Athens St.          </td> <td>San Francisco</td> <td>94112-2801</td> <td>CA         </td> <td>37.720733     </td> <td>-122.42904     </td>\n",
              "        </tr>\n",
              "        <tr>\n",
              "            <td>Cobb (William L.) Elementary         </td> <td>San Francisco Unified</td> <td>0                        </td> <td>30.88                    </td> <td>30.88           </td> <td>San Francisco Unified</td> <td>2725 California Street      </td> <td>2725 California St.     </td> <td>San Francisco</td> <td>94115-2513</td> <td>CA         </td> <td>37.788174     </td> <td>-122.43918     </td>\n",
              "        </tr>\n",
              "        <tr>\n",
              "            <td>Community United Elementary          </td> <td>Oakland Unified      </td> <td>26.087                   </td> <td>11.53                    </td> <td>-14.557         </td> <td>Oakland Unified      </td> <td>6701 International Boulevard</td> <td>6701 International Blvd.</td> <td>Oakland      </td> <td>94621-3501</td> <td>CA         </td> <td>37.761424     </td> <td>-122.19188     </td>\n",
              "        </tr>\n",
              "        <tr>\n",
              "            <td>Crocker Highlands Elementary         </td> <td>Oakland Unified      </td> <td>14.2857                  </td> <td>7.42                     </td> <td>-6.86571        </td> <td>Oakland Unified      </td> <td>525 Midcrest Road           </td> <td>525 Midcrest Rd.        </td> <td>Oakland      </td> <td>94610-1813</td> <td>CA         </td> <td>37.811364     </td> <td>-122.22738     </td>\n",
              "        </tr>\n",
              "        <tr>\n",
              "            <td>East Oakland Pride Elementary        </td> <td>Oakland Unified      </td> <td>11.1111                  </td> <td>22.25                    </td> <td>11.1389         </td> <td>Oakland Unified      </td> <td>8000 Birch Street           </td> <td>8000 Birch St.          </td> <td>Oakland      </td> <td>94621-2123</td> <td>CA         </td> <td>37.759065     </td> <td>-122.17445     </td>\n",
              "        </tr>\n",
              "        <tr>\n",
              "            <td>El Dorado Elementary                 </td> <td>San Francisco Unified</td> <td>9.09091                  </td> <td>27.39                    </td> <td>18.2991         </td> <td>San Francisco Unified</td> <td>70 Delta Street             </td> <td>70 Delta St.            </td> <td>San Francisco</td> <td>94134-2145</td> <td>CA         </td> <td>37.719265     </td> <td>-122.40673     </td>\n",
              "        </tr>\n",
              "        <tr>\n",
              "            <td>Emerson Elementary                   </td> <td>Oakland Unified      </td> <td>26.9231                  </td> <td>44.27                    </td> <td>17.3469         </td> <td>Oakland Unified      </td> <td>4803 Lawton Avenue          </td> <td>4803 Lawton Ave.        </td> <td>Oakland      </td> <td>94609-2208</td> <td>CA         </td> <td>37.834628     </td> <td>-122.2573      </td>\n",
              "        </tr>\n",
              "        <tr>\n",
              "            <td>EnCompass Academy Elementary         </td> <td>Oakland Unified      </td> <td>16.6667                  </td> <td>16.91                    </td> <td>0.243333        </td> <td>Oakland Unified      </td> <td>1025 81st Avenue            </td> <td>1025 81st Ave.          </td> <td>Oakland      </td> <td>94621-2455</td> <td>CA         </td> <td>37.752862     </td> <td>-122.18605     </td>\n",
              "        </tr>\n",
              "        <tr>\n",
              "            <td>Esperanza Elementary                 </td> <td>Oakland Unified      </td> <td>9.52381                  </td> <td>0.27                     </td> <td>-9.25381        </td> <td>Oakland Unified      </td> <td>10315 E Street              </td> <td>10315 E St.             </td> <td>Oakland      </td> <td>94603-3133</td> <td>CA         </td> <td>37.737501     </td> <td>-122.17355     </td>\n",
              "        </tr>\n",
              "        <tr>\n",
              "            <td>Feinstein (Dianne) Elementary        </td> <td>San Francisco Unified</td> <td>0                        </td> <td>1.81                     </td> <td>1.81            </td> <td>San Francisco Unified</td> <td>2550 25th Avenue            </td> <td>2550 25th Ave.          </td> <td>San Francisco</td> <td>94116-2901</td> <td>CA         </td> <td>37.739964     </td> <td>-122.48185     </td>\n",
              "        </tr>\n",
              "        <tr>\n",
              "            <td>Flynn (Leonard R.) Elementary        </td> <td>San Francisco Unified</td> <td>0                        </td> <td>11.14                    </td> <td>11.14           </td> <td>San Francisco Unified</td> <td>3125 Cesar Chavez Street    </td> <td>3125 Cesar Chavez St.   </td> <td>San Francisco</td> <td>94110-4722</td> <td>CA         </td> <td>37.74819      </td> <td>-122.41203     </td>\n",
              "        </tr>\n",
              "        <tr>\n",
              "            <td>Franklin Elementary                  </td> <td>Oakland Unified      </td> <td>16.2162                  </td> <td>11.27                    </td> <td>-4.94622        </td> <td>Oakland Unified      </td> <td>915 Foothill Boulevard      </td> <td>915 Foothill Blvd.      </td> <td>Oakland      </td> <td>94606-3013</td> <td>CA         </td> <td>37.793794     </td> <td>-122.24829     </td>\n",
              "        </tr>\n",
              "        <tr>\n",
              "            <td>Fruitvale Elementary                 </td> <td>Oakland Unified      </td> <td>38.0952                  </td> <td>29.94                    </td> <td>-8.15524        </td> <td>Oakland Unified      </td> <td>3200 Boston Avenue          </td> <td>3200 Boston Ave.        </td> <td>Oakland      </td> <td>94602-2899</td> <td>CA         </td> <td>37.796228     </td> <td>-122.21407     </td>\n",
              "        </tr>\n",
              "        <tr>\n",
              "            <td>Futures Elementary                   </td> <td>Oakland Unified      </td> <td>31.5789                  </td> <td>40.06                    </td> <td>8.48105         </td> <td>Oakland Unified      </td> <td>6701 International Boulevard</td> <td>6701 International Blvd.</td> <td>Oakland      </td> <td>94621-3501</td> <td>CA         </td> <td>37.761424     </td> <td>-122.19188     </td>\n",
              "        </tr>\n",
              "        <tr>\n",
              "            <td>Garfield Elementary                  </td> <td>Oakland Unified      </td> <td>18.4211                  </td> <td>19.07                    </td> <td>0.648947        </td> <td>Oakland Unified      </td> <td>1640 22nd Avenue            </td> <td>1640 22nd Ave.          </td> <td>Oakland      </td> <td>94606-4710</td> <td>CA         </td> <td>37.786684     </td> <td>-122.23578     </td>\n",
              "        </tr>\n",
              "        <tr>\n",
              "            <td>Garfield Elementary                  </td> <td>San Francisco Unified</td> <td>0                        </td> <td>19.07                    </td> <td>19.07           </td> <td>San Francisco Unified</td> <td>420 Filbert Street          </td> <td>420 Filbert St.         </td> <td>San Francisco</td> <td>94133-3002</td> <td>CA         </td> <td>37.8018       </td> <td>-122.40673     </td>\n",
              "        </tr>\n",
              "        <tr>\n",
              "            <td>Glen Park Elementary                 </td> <td>San Francisco Unified</td> <td>6.66667                  </td> <td>10.16                    </td> <td>3.49333         </td> <td>San Francisco Unified</td> <td>151 Lippard Avenue          </td> <td>151 Lippard Ave.        </td> <td>San Francisco</td> <td>94131-3249</td> <td>CA         </td> <td>37.733107     </td> <td>-122.43608     </td>\n",
              "        </tr>\n",
              "        <tr>\n",
              "            <td>Glenview Elementary                  </td> <td>Oakland Unified      </td> <td>14.8148                  </td> <td>14.97                    </td> <td>0.155185        </td> <td>Oakland Unified      </td> <td>4215 La Cresta Avenue       </td> <td>4215 La Cresta Ave.     </td> <td>Oakland      </td> <td>94602-1739</td> <td>CA         </td> <td>37.805477     </td> <td>-122.21877     </td>\n",
              "        </tr>\n",
              "        <tr>\n",
              "            <td>Grass Valley Elementary              </td> <td>Oakland Unified      </td> <td>44.4444                  </td> <td>63.78                    </td> <td>19.3356         </td> <td>Oakland Unified      </td> <td>4720 Dunkirk Avenue         </td> <td>4720 Dunkirk Ave.       </td> <td>Oakland      </td> <td>94605-5607</td> <td>CA         </td> <td>37.75301      </td> <td>-122.12585     </td>\n",
              "        </tr>\n",
              "        <tr>\n",
              "            <td>Grattan Elementary                   </td> <td>San Francisco Unified</td> <td>0                        </td> <td>3.8                      </td> <td>3.8             </td> <td>San Francisco Unified</td> <td>165 Grattan Street          </td> <td>165 Grattan St.         </td> <td>San Francisco</td> <td>94117-4208</td> <td>CA         </td> <td>37.763858     </td> <td>-122.45052     </td>\n",
              "        </tr>\n",
              "        <tr>\n",
              "            <td>Greenleaf Elementary                 </td> <td>Oakland Unified      </td> <td>19.0476                  </td> <td>8.33                     </td> <td>-10.7176        </td> <td>Oakland Unified      </td> <td>6328 East 17th Street       </td> <td>6328 East 17th St.      </td> <td>Oakland      </td> <td>94621-3832</td> <td>CA         </td> <td>37.764386     </td> <td>-122.19484     </td>\n",
              "        </tr>\n",
              "        <tr>\n",
              "            <td>Guadalupe Elementary                 </td> <td>San Francisco Unified</td> <td>0                        </td> <td>3.24                     </td> <td>3.24            </td> <td>San Francisco Unified</td> <td>859 Prague Street           </td> <td>859 Prague St.          </td> <td>San Francisco</td> <td>94112-4516</td> <td>CA         </td> <td>37.710438     </td> <td>-122.43441     </td>\n",
              "        </tr>\n",
              "        <tr>\n",
              "            <td>Harte (Bret) Elementary              </td> <td>San Francisco Unified</td> <td>0                        </td> <td>23.96                    </td> <td>23.96           </td> <td>San Francisco Unified</td> <td>1035 Gilman Avenue          </td> <td>1035 Gilman Ave.        </td> <td>San Francisco</td> <td>94124-3710</td> <td>CA         </td> <td>37.71861      </td> <td>-122.38889     </td>\n",
              "        </tr>\n",
              "        <tr>\n",
              "            <td>Hillcrest Elementary                 </td> <td>Oakland Unified      </td> <td>9.52381                  </td> <td>9.64                     </td> <td>0.11619         </td> <td>Oakland Unified      </td> <td>30 Marguerite Drive         </td> <td>30 Marguerite Dr.       </td> <td>Oakland      </td> <td>94618-2230</td> <td>CA         </td> <td>37.840442     </td> <td>-122.23287     </td>\n",
              "        </tr>\n",
              "        <tr>\n",
              "            <td>Hillcrest Elementary                 </td> <td>San Francisco Unified</td> <td>0                        </td> <td>9.64                     </td> <td>9.64            </td> <td>San Francisco Unified</td> <td>810 Silver Avenue           </td> <td>810 Silver Ave.         </td> <td>San Francisco</td> <td>94134-1012</td> <td>CA         </td> <td>37.729026     </td> <td>-122.41924     </td>\n",
              "        </tr>\n",
              "        <tr>\n",
              "            <td>Hoover Elementary                    </td> <td>Oakland Unified      </td> <td>25                       </td> <td>35.11                    </td> <td>10.11           </td> <td>Oakland Unified      </td> <td>890 Brockhurst Street       </td> <td>890 Brockhurst St.      </td> <td>Oakland      </td> <td>94608-4318</td> <td>CA         </td> <td>37.822947     </td> <td>-122.27445     </td>\n",
              "        </tr>\n",
              "        <tr>\n",
              "            <td>Horace Mann Elementary               </td> <td>Oakland Unified      </td> <td>23.5294                  </td> <td>27.21                    </td> <td>3.68059         </td> <td>Oakland Unified      </td> <td>5222 Ygnacio Avenue         </td> <td>5222 Ygnacio Ave.       </td> <td>Oakland      </td> <td>94601-5422</td> <td>CA         </td> <td>37.77355      </td> <td>-122.20245     </td>\n",
              "        </tr>\n",
              "        <tr>\n",
              "            <td>Howard Elementary                    </td> <td>Oakland Unified      </td> <td>47.0588                  </td> <td>55.93                    </td> <td>8.87118         </td> <td>Oakland Unified      </td> <td>8755 Fontaine Street        </td> <td>8755 Fontaine St.       </td> <td>Oakland      </td> <td>94605-4197</td> <td>CA         </td> <td>37.76215      </td> <td>-122.15135     </td>\n",
              "        </tr>\n",
              "        <tr>\n",
              "            <td>Huerta (Dolores) Elementary          </td> <td>San Francisco Unified</td> <td>0                        </td> <td>3.38                     </td> <td>3.38            </td> <td>San Francisco Unified</td> <td>65 Chenery Street           </td> <td>65 Chenery St.          </td> <td>San Francisco</td> <td>94131-2706</td> <td>CA         </td> <td>37.740659     </td> <td>-122.42559     </td>\n",
              "        </tr>\n",
              "        <tr>\n",
              "            <td>Jefferson Elementary                 </td> <td>San Francisco Unified</td> <td>0                        </td> <td>0.59                     </td> <td>0.59            </td> <td>San Francisco Unified</td> <td>1725 Irving Street          </td> <td>1725 Irving St.         </td> <td>San Francisco</td> <td>94122-1893</td> <td>CA         </td> <td>37.763555     </td> <td>-122.47635     </td>\n",
              "        </tr>\n",
              "        <tr>\n",
              "            <td>Joaquin Miller Elementary            </td> <td>Oakland Unified      </td> <td>8.33333                  </td> <td>14.91                    </td> <td>6.57667         </td> <td>Oakland Unified      </td> <td>5525 Ascot Drive            </td> <td>5525 Ascot Dr.          </td> <td>Oakland      </td> <td>94611-3001</td> <td>CA         </td> <td>37.818545     </td> <td>-122.20177     </td>\n",
              "        </tr>\n",
              "        <tr>\n",
              "            <td>Kaiser Elementary                    </td> <td>Oakland Unified      </td> <td>7.14286                  </td> <td>21.13                    </td> <td>13.9871         </td> <td>Oakland Unified      </td> <td>25 South Hill Court         </td> <td>25 South Hill Ct.       </td> <td>Oakland      </td> <td>94618-2306</td> <td>CA         </td> <td>37.853077     </td> <td>-122.23181     </td>\n",
              "        </tr>\n",
              "        <tr>\n",
              "            <td>Key (Francis Scott) Elementary       </td> <td>San Francisco Unified</td> <td>0                        </td> <td>0.73                     </td> <td>0.73            </td> <td>San Francisco Unified</td> <td>1530 43rd Avenue            </td> <td>1530 43rd Ave.          </td> <td>San Francisco</td> <td>94122-2925</td> <td>CA         </td> <td>37.758154     </td> <td>-122.50249     </td>\n",
              "        </tr>\n",
              "        <tr>\n",
              "            <td>King (Thomas Starr) Elementary       </td> <td>San Francisco Unified</td> <td>0                        </td> <td>14.66                    </td> <td>14.66           </td> <td>San Francisco Unified</td> <td>1215 Carolina Street        </td> <td>1215 Carolina St.       </td> <td>San Francisco</td> <td>94107-3322</td> <td>CA         </td> <td>37.752765     </td> <td>-122.39935     </td>\n",
              "        </tr>\n",
              "        <tr>\n",
              "            <td>La Escuelita Elementary              </td> <td>Oakland Unified      </td> <td>8.69565                  </td> <td>13.62                    </td> <td>4.92435         </td> <td>Oakland Unified      </td> <td>1100 Third Avenue           </td> <td>1100 Third Ave.         </td> <td>Oakland      </td> <td>94606-2227</td> <td>CA         </td> <td>37.796004     </td> <td>-122.25727     </td>\n",
              "        </tr>\n",
              "        <tr>\n",
              "            <td>Lafayette Elementary                 </td> <td>San Francisco Unified</td> <td>0                        </td> <td>2.63                     </td> <td>2.63            </td> <td>San Francisco Unified</td> <td>4545 Anza Street            </td> <td>4545 Anza St.           </td> <td>San Francisco</td> <td>94121-2621</td> <td>CA         </td> <td>37.777608     </td> <td>-122.49688     </td>\n",
              "        </tr>\n",
              "        <tr>\n",
              "            <td>Lakeshore Alternative Elementary     </td> <td>San Francisco Unified</td> <td>0                        </td> <td>11.29                    </td> <td>11.29           </td> <td>San Francisco Unified</td> <td>220 Middlefield Drive       </td> <td>220 Middlefield Dr.     </td> <td>San Francisco</td> <td>94132-1418</td> <td>CA         </td> <td>37.730603     </td> <td>-122.48615     </td>\n",
              "        </tr>\n",
              "        <tr>\n",
              "            <td>Lau (Gordon J.) Elementary           </td> <td>San Francisco Unified</td> <td>0                        </td> <td>0.42                     </td> <td>0.42            </td> <td>San Francisco Unified</td> <td>950 Clay Street             </td> <td>950 Clay St.            </td> <td>San Francisco</td> <td>94108-1521</td> <td>CA         </td> <td>37.793981     </td> <td>-122.40868     </td>\n",
              "        </tr>\n",
              "        <tr>\n",
              "            <td>Laurel Elementary                    </td> <td>Oakland Unified      </td> <td>28                       </td> <td>32.64                    </td> <td>4.64            </td> <td>Oakland Unified      </td> <td>3750 Brown Avenue           </td> <td>3750 Brown Ave.         </td> <td>Oakland      </td> <td>94619-1406</td> <td>CA         </td> <td>37.79307      </td> <td>-122.19664     </td>\n",
              "        </tr>\n",
              "        <tr>\n",
              "            <td>Lawton Alternative Elementary        </td> <td>San Francisco Unified</td> <td>12                       </td> <td>4.01                     </td> <td>-7.99           </td> <td>San Francisco Unified</td> <td>1570 31st Avenue            </td> <td>1570 31st Ave.          </td> <td>San Francisco</td> <td>94122-3104</td> <td>CA         </td> <td>37.757952     </td> <td>-122.48958     </td>\n",
              "        </tr>\n",
              "        <tr>\n",
              "            <td>Lilienthal (Claire) Elementary       </td> <td>San Francisco Unified</td> <td>3.7037                   </td> <td>5.29                     </td> <td>1.5863          </td> <td>San Francisco Unified</td> <td>3630 Divisadero Street      </td> <td>3630 Divisadero St.     </td> <td>San Francisco</td> <td>94123-1411</td> <td>CA         </td> <td>37.803192     </td> <td>-122.4435      </td>\n",
              "        </tr>\n",
              "        <tr>\n",
              "            <td>Lincoln Elementary                   </td> <td>Oakland Unified      </td> <td>2.7027                   </td> <td>7.51                     </td> <td>4.8073          </td> <td>Oakland Unified      </td> <td>225 11th Street             </td> <td>225 11th St.            </td> <td>Oakland      </td> <td>94607-4409</td> <td>CA         </td> <td>37.80011      </td> <td>-122.26715     </td>\n",
              "        </tr>\n",
              "        <tr>\n",
              "            <td>Longfellow Elementary                </td> <td>San Francisco Unified</td> <td>0                        </td> <td>2.15                     </td> <td>2.15            </td> <td>San Francisco Unified</td> <td>755 Morse Street            </td> <td>755 Morse St.           </td> <td>San Francisco</td> <td>94112-4223</td> <td>CA         </td> <td>37.71046      </td> <td>-122.44769     </td>\n",
              "        </tr>\n",
              "        <tr>\n",
              "            <td>Manzanita SEED Elementary            </td> <td>Oakland Unified      </td> <td>4.34783                  </td> <td>10.74                    </td> <td>6.39217         </td> <td>Oakland Unified      </td> <td>2409 East 27th Street       </td> <td>2409 East 27th St.      </td> <td>Oakland      </td> <td>94601-1303</td> <td>CA         </td> <td>37.792204     </td> <td>-122.2239      </td>\n",
              "        </tr>\n",
              "        <tr>\n",
              "            <td>Markham Elementary                   </td> <td>Oakland Unified      </td> <td>47.3684                  </td> <td>25.39                    </td> <td>-21.9784        </td> <td>Oakland Unified      </td> <td>7220 Krause Avenue          </td> <td>7220 Krause Ave.        </td> <td>Oakland      </td> <td>94605-2380</td> <td>CA         </td> <td>37.765296     </td> <td>-122.17887     </td>\n",
              "        </tr>\n",
              "        <tr>\n",
              "            <td>Marshall Elementary                  </td> <td>San Francisco Unified</td> <td>0                        </td> <td>1.23                     </td> <td>1.23            </td> <td>San Francisco Unified</td> <td>1575 15th Street            </td> <td>1575 15th St.           </td> <td>San Francisco</td> <td>94103-3639</td> <td>CA         </td> <td>37.766679     </td> <td>-122.41909     </td>\n",
              "        </tr>\n",
              "        <tr>\n",
              "            <td>Martin Luther King, Jr. Elementary   </td> <td>Oakland Unified      </td> <td>50                       </td> <td>60.36                    </td> <td>10.36           </td> <td>Oakland Unified      </td> <td>960 Tenth Street            </td> <td>960 Tenth St.           </td> <td>Oakland      </td> <td>94607-3106</td> <td>CA         </td> <td>37.80568      </td> <td>-122.28298     </td>\n",
              "        </tr>\n",
              "        <tr>\n",
              "            <td>McCoppin (Frank) Elementary          </td> <td>San Francisco Unified</td> <td>0                        </td> <td>2.67                     </td> <td>2.67            </td> <td>San Francisco Unified</td> <td>651 Sixth Avenue            </td> <td>651 Sixth Ave.          </td> <td>San Francisco</td> <td>94118-3804</td> <td>CA         </td> <td>37.776283     </td> <td>-122.46401     </td>\n",
              "        </tr>\n",
              "        <tr>\n",
              "            <td>McKinley Elementary                  </td> <td>San Francisco Unified</td> <td>0                        </td> <td>8.2                      </td> <td>8.2             </td> <td>San Francisco Unified</td> <td>1025 14th Street            </td> <td>1025 14th St.           </td> <td>San Francisco</td> <td>94114-1221</td> <td>CA         </td> <td>37.767229     </td> <td>-122.43659     </td>\n",
              "        </tr>\n",
              "        <tr>\n",
              "            <td>Milk (Harvey) Civil Rights Elementary</td> <td>San Francisco Unified</td> <td>18.1818                  </td> <td>10.27                    </td> <td>-7.91182        </td> <td>San Francisco Unified</td> <td>4235 19th Street            </td> <td>4235 19th St.           </td> <td>San Francisco</td> <td>94114-2415</td> <td>CA         </td> <td>37.759148     </td> <td>-122.43634     </td>\n",
              "        </tr>\n",
              "        <tr>\n",
              "            <td>Miraloma Elementary                  </td> <td>San Francisco Unified</td> <td>4.7619                   </td> <td>4.5                      </td> <td>-0.261905       </td> <td>San Francisco Unified</td> <td>175 Omar Way                </td> <td>175 Omar Way            </td> <td>San Francisco</td> <td>94127-1701</td> <td>CA         </td> <td>37.739309     </td> <td>-122.45021     </td>\n",
              "        </tr>\n",
              "        <tr>\n",
              "            <td>Monroe Elementary                    </td> <td>San Francisco Unified</td> <td>0                        </td> <td>0.94                     </td> <td>0.94            </td> <td>San Francisco Unified</td> <td>260 Madrid Street           </td> <td>260 Madrid St.          </td> <td>San Francisco</td> <td>94112-2055</td> <td>CA         </td> <td>37.725224     </td> <td>-122.43012     </td>\n",
              "        </tr>\n",
              "        <tr>\n",
              "            <td>Montclair Elementary                 </td> <td>Oakland Unified      </td> <td>6.66667                  </td> <td>13.44                    </td> <td>6.77333         </td> <td>Oakland Unified      </td> <td>1757 Mountain Boulevard     </td> <td>1757 Mountain Blvd.     </td> <td>Oakland      </td> <td>94611-2259</td> <td>CA         </td> <td>37.831092     </td> <td>-122.21281     </td>\n",
              "        </tr>\n",
              "        <tr>\n",
              "            <td>Moscone (George R.) Elementary       </td> <td>San Francisco Unified</td> <td>0                        </td> <td>0.52                     </td> <td>0.52            </td> <td>San Francisco Unified</td> <td>2576 Harrison Street        </td> <td>2576 Harrison St.       </td> <td>San Francisco</td> <td>94110-2720</td> <td>CA         </td> <td>37.756242     </td> <td>-122.4123      </td>\n",
              "        </tr>\n",
              "        <tr>\n",
              "            <td>Muir (John) Elementary               </td> <td>San Francisco Unified</td> <td>23.0769                  </td> <td>25.52                    </td> <td>2.44308         </td> <td>San Francisco Unified</td> <td>380 Webster Street          </td> <td>380 Webster St.         </td> <td>San Francisco</td> <td>94117-3512</td> <td>CA         </td> <td>37.773688     </td> <td>-122.42909     </td>\n",
              "        </tr>\n",
              "        <tr>\n",
              "            <td>New Traditions Elementary            </td> <td>San Francisco Unified</td> <td>0                        </td> <td>5.12                     </td> <td>5.12            </td> <td>San Francisco Unified</td> <td>2049 Grove Street           </td> <td>2049 Grove St.          </td> <td>San Francisco</td> <td>94117-1123</td> <td>CA         </td> <td>37.77431      </td> <td>-122.45032     </td>\n",
              "        </tr>\n",
              "        <tr>\n",
              "            <td>Ortega (Jose) Elementary             </td> <td>San Francisco Unified</td> <td>11.7647                  </td> <td>5.28                     </td> <td>-6.48471        </td> <td>San Francisco Unified</td> <td>400 Sargent Street          </td> <td>400 Sargent St.         </td> <td>San Francisco</td> <td>94132-3152</td> <td>CA         </td> <td>37.716168     </td> <td>-122.46625     </td>\n",
              "        </tr>\n",
              "        <tr>\n",
              "            <td>Parker (Jean) Elementary             </td> <td>San Francisco Unified</td> <td>0                        </td> <td>5.56                     </td> <td>5.56            </td> <td>San Francisco Unified</td> <td>840 Broadway Street         </td> <td>840 Broadway St.        </td> <td>San Francisco</td> <td>94133-4219</td> <td>CA         </td> <td>37.797323     </td> <td>-122.4111      </td>\n",
              "        </tr>\n",
              "        <tr>\n",
              "            <td>Parker Elementary                    </td> <td>Oakland Unified      </td> <td>42.8571                  </td> <td>50                       </td> <td>7.14286         </td> <td>Oakland Unified      </td> <td>7929 Ney Avenue             </td> <td>7929 Ney Ave.           </td> <td>Oakland      </td> <td>94605-3311</td> <td>CA         </td> <td>37.76564      </td> <td>-122.16559     </td>\n",
              "        </tr>\n",
              "        <tr>\n",
              "            <td>Parks (Rosa) Elementary              </td> <td>San Francisco Unified</td> <td>5                        </td> <td>18.91                    </td> <td>13.91           </td> <td>San Francisco Unified</td> <td>1501 O'Farrell Street       </td> <td>1501 O'Farrell St.      </td> <td>San Francisco</td> <td>94115-3762</td> <td>CA         </td> <td>37.783681     </td> <td>-122.42945     </td>\n",
              "        </tr>\n",
              "        <tr>\n",
              "            <td>Peabody (George) Elementary          </td> <td>San Francisco Unified</td> <td>0                        </td> <td>1.44                     </td> <td>1.44            </td> <td>San Francisco Unified</td> <td>251 Sixth Avenue            </td> <td>251 Sixth Ave.          </td> <td>San Francisco</td> <td>94118-2311</td> <td>CA         </td> <td>37.783947     </td> <td>-122.46456     </td>\n",
              "        </tr>\n",
              "        <tr>\n",
              "            <td>Peralta Elementary                   </td> <td>Oakland Unified      </td> <td>5.26316                  </td> <td>13.85                    </td> <td>8.58684         </td> <td>Oakland Unified      </td> <td>460 63rd Street             </td> <td>460 63rd St.            </td> <td>Oakland      </td> <td>94609-1339</td> <td>CA         </td> <td>37.848963     </td> <td>-122.25881     </td>\n",
              "        </tr>\n",
              "        <tr>\n",
              "            <td>Piedmont Avenue Elementary           </td> <td>Oakland Unified      </td> <td>37.5                     </td> <td>48.97                    </td> <td>11.47           </td> <td>Oakland Unified      </td> <td>4314 Piedmont Avenue        </td> <td>4314 Piedmont Ave.      </td> <td>Oakland      </td> <td>94611-4716</td> <td>CA         </td> <td>37.829071     </td> <td>-122.24879     </td>\n",
              "        </tr>\n",
              "        <tr>\n",
              "            <td>Redding Elementary                   </td> <td>San Francisco Unified</td> <td>0                        </td> <td>7.2                      </td> <td>7.2             </td> <td>San Francisco Unified</td> <td>1421 Pine Street            </td> <td>1421 Pine St.           </td> <td>San Francisco</td> <td>94109-4719</td> <td>CA         </td> <td>37.789726     </td> <td>-122.41921     </td>\n",
              "        </tr>\n",
              "        <tr>\n",
              "            <td>Redwood Heights Elementary           </td> <td>Oakland Unified      </td> <td>23.8095                  </td> <td>15.83                    </td> <td>-7.97952        </td> <td>Oakland Unified      </td> <td>4401 39th Avenue            </td> <td>4401 39th Ave.          </td> <td>Oakland      </td> <td>94619-1614</td> <td>CA         </td> <td>37.797077     </td> <td>-122.18626     </td>\n",
              "        </tr>\n",
              "        <tr>\n",
              "            <td>Revere (Paul) Elementary             </td> <td>San Francisco Unified</td> <td>5                        </td> <td>7.68                     </td> <td>2.68            </td> <td>San Francisco Unified</td> <td>555 Tompkins Avenue         </td> <td>555 Tompkins Ave.       </td> <td>San Francisco</td> <td>94110-6144</td> <td>CA         </td> <td>37.737142     </td> <td>-122.41317     </td>\n",
              "        </tr>\n",
              "        <tr>\n",
              "            <td>Rooftop Elementary                   </td> <td>San Francisco Unified</td> <td>0                        </td> <td>10.41                    </td> <td>10.41           </td> <td>San Francisco Unified</td> <td>443 Burnett Avenue          </td> <td>443 Burnett Ave.        </td> <td>San Francisco</td> <td>94131-1330</td> <td>CA         </td> <td>37.754418     </td> <td>-122.44388     </td>\n",
              "        </tr>\n",
              "        <tr>\n",
              "            <td>Sanchez Elementary                   </td> <td>San Francisco Unified</td> <td>6.25                     </td> <td>5.1                      </td> <td>-1.15           </td> <td>San Francisco Unified</td> <td>325 Sanchez Street          </td> <td>325 Sanchez St.         </td> <td>San Francisco</td> <td>94114-1615</td> <td>CA         </td> <td>37.763967     </td> <td>-122.43076     </td>\n",
              "        </tr>\n",
              "        <tr>\n",
              "            <td>Sequoia Elementary                   </td> <td>Oakland Unified      </td> <td>12.5                     </td> <td>14.03                    </td> <td>1.53            </td> <td>Oakland Unified      </td> <td>3730 Lincoln Avenue         </td> <td>3730 Lincoln Ave.       </td> <td>Oakland      </td> <td>94602-2468</td> <td>CA         </td> <td>37.802314     </td> <td>-122.21141     </td>\n",
              "        </tr>\n",
              "        <tr>\n",
              "            <td>Serra (Junipero) Elementary          </td> <td>San Francisco Unified</td> <td>8.33333                  </td> <td>5.19                     </td> <td>-3.14333        </td> <td>San Francisco Unified</td> <td>625 Holly Park Circle       </td> <td>625 Holly Park Cir.     </td> <td>San Francisco</td> <td>94110-5815</td> <td>CA         </td> <td>37.736733     </td> <td>-122.42113     </td>\n",
              "        </tr>\n",
              "        <tr>\n",
              "            <td>Sheridan Elementary                  </td> <td>San Francisco Unified</td> <td>10                       </td> <td>17.57                    </td> <td>7.57            </td> <td>San Francisco Unified</td> <td>431 Capitol Avenue          </td> <td>431 Capitol Ave.        </td> <td>San Francisco</td> <td>94112-2934</td> <td>CA         </td> <td>37.714331     </td> <td>-122.45913     </td>\n",
              "        </tr>\n",
              "        <tr>\n",
              "            <td>Sherman Elementary                   </td> <td>San Francisco Unified</td> <td>5.55556                  </td> <td>10.42                    </td> <td>4.86444         </td> <td>San Francisco Unified</td> <td>1651 Union Street           </td> <td>1651 Union St.          </td> <td>San Francisco</td> <td>94123-4506</td> <td>CA         </td> <td>37.798273     </td> <td>-122.4262      </td>\n",
              "        </tr>\n",
              "        <tr>\n",
              "            <td>Sloat (Commodore) Elementary         </td> <td>San Francisco Unified</td> <td>6.66667                  </td> <td>1.82                     </td> <td>-4.84667        </td> <td>San Francisco Unified</td> <td>50 Darien Way               </td> <td>50 Darien Way           </td> <td>San Francisco</td> <td>94127-1902</td> <td>CA         </td> <td>37.731881     </td> <td>-122.47096     </td>\n",
              "        </tr>\n",
              "        <tr>\n",
              "            <td>Spring Valley Elementary             </td> <td>San Francisco Unified</td> <td>0                        </td> <td>0.68                     </td> <td>0.68            </td> <td>San Francisco Unified</td> <td>1451 Jackson Street         </td> <td>1451 Jackson St.        </td> <td>San Francisco</td> <td>94109-3115</td> <td>CA         </td> <td>37.794403     </td> <td>-122.41899     </td>\n",
              "        </tr>\n",
              "        <tr>\n",
              "            <td>Stevenson (Robert Louis) Elementary  </td> <td>San Francisco Unified</td> <td>4.7619                   </td> <td>1.4                      </td> <td>-3.3619         </td> <td>San Francisco Unified</td> <td>2051 34th Avenue            </td> <td>2051 34th Ave.          </td> <td>San Francisco</td> <td>94116-1109</td> <td>CA         </td> <td>37.748857     </td> <td>-122.4923      </td>\n",
              "        </tr>\n",
              "        <tr>\n",
              "            <td>Sunnyside Elementary                 </td> <td>San Francisco Unified</td> <td>0                        </td> <td>3.99                     </td> <td>3.99            </td> <td>San Francisco Unified</td> <td>250 Foerster Street         </td> <td>250 Foerster St.        </td> <td>San Francisco</td> <td>94112-1341</td> <td>CA         </td> <td>37.730307     </td> <td>-122.44879     </td>\n",
              "        </tr>\n",
              "        <tr>\n",
              "            <td>Sunset Elementary                    </td> <td>San Francisco Unified</td> <td>0                        </td> <td>0.25                     </td> <td>0.25            </td> <td>San Francisco Unified</td> <td>1920 41st Avenue            </td> <td>1920 41st Ave.          </td> <td>San Francisco</td> <td>94116-1101</td> <td>CA         </td> <td>37.750743     </td> <td>-122.49979     </td>\n",
              "        </tr>\n",
              "        <tr>\n",
              "            <td>Sutro Elementary                     </td> <td>San Francisco Unified</td> <td>0                        </td> <td>0.39                     </td> <td>0.39            </td> <td>San Francisco Unified</td> <td>235 12th Avenue             </td> <td>235 12th Ave.           </td> <td>San Francisco</td> <td>94118-2103</td> <td>CA         </td> <td>37.783932     </td> <td>-122.47102     </td>\n",
              "        </tr>\n",
              "        <tr>\n",
              "            <td>Taylor (Edward R.) Elementary        </td> <td>San Francisco Unified</td> <td>10.7143                  </td> <td>3.07                     </td> <td>-7.64429        </td> <td>San Francisco Unified</td> <td>423 Burrows Street          </td> <td>423 Burrows St.         </td> <td>San Francisco</td> <td>94134-1449</td> <td>CA         </td> <td>37.728        </td> <td>-122.40733     </td>\n",
              "        </tr>\n",
              "        <tr>\n",
              "            <td>Thornhill Elementary                 </td> <td>Oakland Unified      </td> <td>4.34783                  </td> <td>9.48                     </td> <td>5.13217         </td> <td>Oakland Unified      </td> <td>5880 Thornhill Drive        </td> <td>5880 Thornhill Dr.      </td> <td>Oakland      </td> <td>94611-2147</td> <td>CA         </td> <td>37.836187     </td> <td>-122.21152     </td>\n",
              "        </tr>\n",
              "        <tr>\n",
              "            <td>Ulloa Elementary                     </td> <td>San Francisco Unified</td> <td>0                        </td> <td>0.38                     </td> <td>0.38            </td> <td>San Francisco Unified</td> <td>2650 42nd Avenue            </td> <td>2650 42nd Ave.          </td> <td>San Francisco</td> <td>94116-2714</td> <td>CA         </td> <td>37.737302     </td> <td>-122.49995     </td>\n",
              "        </tr>\n",
              "        <tr>\n",
              "            <td>Visitacion Valley Elementary         </td> <td>San Francisco Unified</td> <td>8.33333                  </td> <td>12.78                    </td> <td>4.44667         </td> <td>San Francisco Unified</td> <td>55 Schwerin Street          </td> <td>55 Schwerin St.         </td> <td>San Francisco</td> <td>94134-2742</td> <td>CA         </td> <td>37.71268      </td> <td>-122.41036     </td>\n",
              "        </tr>\n",
              "        <tr>\n",
              "            <td>Webster (Daniel) Elementary          </td> <td>San Francisco Unified</td> <td>0                        </td> <td>6.73                     </td> <td>6.73            </td> <td>San Francisco Unified</td> <td>465 Missouri Street         </td> <td>465 Missouri St.        </td> <td>San Francisco</td> <td>94107-2826</td> <td>CA         </td> <td>37.760489     </td> <td>-122.39623     </td>\n",
              "        </tr>\n",
              "        <tr>\n",
              "            <td>West Portal Elementary               </td> <td>San Francisco Unified</td> <td>0                        </td> <td>0.51                     </td> <td>0.51            </td> <td>San Francisco Unified</td> <td>5 Lenox Way                 </td> <td>5 Lenox Way             </td> <td>San Francisco</td> <td>94127-1111</td> <td>CA         </td> <td>37.743572     </td> <td>-122.46468     </td>\n",
              "        </tr>\n",
              "        <tr>\n",
              "            <td>Yick Wo Elementary                   </td> <td>San Francisco Unified</td> <td>0                        </td> <td>2.5                      </td> <td>2.5             </td> <td>San Francisco Unified</td> <td>2245 Jones Street           </td> <td>2245 Jones St.          </td> <td>San Francisco</td> <td>94133-2207</td> <td>CA         </td> <td>37.801906     </td> <td>-122.4163      </td>\n",
              "        </tr>\n",
              "        <tr>\n",
              "            <td>Yu (Alice Fong) Elementary           </td> <td>San Francisco Unified</td> <td>0                        </td> <td>7.46                     </td> <td>7.46            </td> <td>San Francisco Unified</td> <td>1541 12th Avenue            </td> <td>1541 12th Ave.          </td> <td>San Francisco</td> <td>94122-3503</td> <td>CA         </td> <td>37.759405     </td> <td>-122.46931     </td>\n",
              "        </tr>\n",
              "    </tbody>\n",
              "</table>"
            ],
            "text/plain": [
              "<IPython.core.display.HTML object>"
            ]
          },
          "metadata": {
            "tags": []
          }
        }
      ]
    },
    {
      "cell_type": "code",
      "metadata": {
        "id": "rz0OK52CcyBK",
        "colab": {
          "base_uri": "https://localhost:8080/",
          "height": 726
        },
        "outputId": "2267e120-7081-4c71-b516-442d3ebb3afc"
      },
      "source": [
        "joint_tables = joint_tables.drop(5).group([\"District\", \"School\"], first)\n",
        "joint_tables"
      ],
      "execution_count": null,
      "outputs": [
        {
          "output_type": "execute_result",
          "data": {
            "text/html": [
              "<table border=\"1\" class=\"dataframe\">\n",
              "    <thead>\n",
              "        <tr>\n",
              "            <th>District</th> <th>School</th> <th>Percentage Teachers first first</th> <th>Percentage Students first first</th> <th>Difference first first</th> <th>Street first first</th> <th>StreetAbr first first</th> <th>City first first</th> <th>Zip first first</th> <th>State first first</th> <th>Latitude first first</th> <th>Longitude first first</th>\n",
              "        </tr>\n",
              "    </thead>\n",
              "    <tbody>\n",
              "        <tr>\n",
              "            <td>Oakland Unified</td> <td>ACORN Woodland Elementary   </td> <td>5                              </td> <td>4.63                           </td> <td>-0.37                 </td> <td>1025 - 81st Avenue          </td> <td>1025 - 81st Ave.        </td> <td>Oakland         </td> <td>94621          </td> <td>CA               </td> <td>No Data             </td> <td>No Data              </td>\n",
              "        </tr>\n",
              "        <tr>\n",
              "            <td>Oakland Unified</td> <td>Allendale Elementary        </td> <td>24                             </td> <td>27.75                          </td> <td>3.75                  </td> <td>3670 Penniman Avenue        </td> <td>3670 Penniman Ave.      </td> <td>Oakland         </td> <td>94619-1116     </td> <td>CA               </td> <td>37.788642           </td> <td>-122.20516           </td>\n",
              "        </tr>\n",
              "        <tr>\n",
              "            <td>Oakland Unified</td> <td>Bella Vista Elementary      </td> <td>13.7931                        </td> <td>19.66                          </td> <td>5.8669                </td> <td>1025 East 28th Street       </td> <td>1025 East 28th St.      </td> <td>Oakland         </td> <td>94610-4018     </td> <td>CA               </td> <td>37.800355           </td> <td>-122.23708           </td>\n",
              "        </tr>\n",
              "        <tr>\n",
              "            <td>Oakland Unified</td> <td>Brookfield Elementary       </td> <td>26.6667                        </td> <td>24.54                          </td> <td>-2.12667              </td> <td>401 Jones Avenue            </td> <td>401 Jones Ave.          </td> <td>Oakland         </td> <td>94603-1123     </td> <td>CA               </td> <td>37.734711           </td> <td>-122.189             </td>\n",
              "        </tr>\n",
              "        <tr>\n",
              "            <td>Oakland Unified</td> <td>Burckhalter Elementary      </td> <td>50                             </td> <td>66.22                          </td> <td>16.22                 </td> <td>3994 Burckhalter Avenue     </td> <td>3994 Burckhalter Ave.   </td> <td>Oakland         </td> <td>94605-2616     </td> <td>CA               </td> <td>37.775578           </td> <td>-122.16679           </td>\n",
              "        </tr>\n",
              "        <tr>\n",
              "            <td>Oakland Unified</td> <td>Carl B. Munck Elementary    </td> <td>47.0588                        </td> <td>51.29                          </td> <td>4.23118               </td> <td>11900 Campus Drive          </td> <td>11900 Campus Dr.        </td> <td>Oakland         </td> <td>94619-3104     </td> <td>CA               </td> <td>37.794753           </td> <td>-122.17382           </td>\n",
              "        </tr>\n",
              "        <tr>\n",
              "            <td>Oakland Unified</td> <td>Chabot Elementary           </td> <td>8.57143                        </td> <td>7.34                           </td> <td>-1.23143              </td> <td>6686 Chabot Road            </td> <td>6686 Chabot Rd.         </td> <td>Oakland         </td> <td>94618-1641     </td> <td>CA               </td> <td>37.850664           </td> <td>-122.24293           </td>\n",
              "        </tr>\n",
              "        <tr>\n",
              "            <td>Oakland Unified</td> <td>Cleveland Elementary        </td> <td>33.3333                        </td> <td>17.13                          </td> <td>-16.2033              </td> <td>745 Cleveland Street        </td> <td>745 Cleveland St.       </td> <td>Oakland         </td> <td>94606-1513     </td> <td>CA               </td> <td>37.804369           </td> <td>-122.24405           </td>\n",
              "        </tr>\n",
              "        <tr>\n",
              "            <td>Oakland Unified</td> <td>Community United Elementary </td> <td>26.087                         </td> <td>11.53                          </td> <td>-14.557               </td> <td>6701 International Boulevard</td> <td>6701 International Blvd.</td> <td>Oakland         </td> <td>94621-3501     </td> <td>CA               </td> <td>37.761424           </td> <td>-122.19188           </td>\n",
              "        </tr>\n",
              "        <tr>\n",
              "            <td>Oakland Unified</td> <td>Crocker Highlands Elementary</td> <td>14.2857                        </td> <td>7.42                           </td> <td>-6.86571              </td> <td>525 Midcrest Road           </td> <td>525 Midcrest Rd.        </td> <td>Oakland         </td> <td>94610-1813     </td> <td>CA               </td> <td>37.811364           </td> <td>-122.22738           </td>\n",
              "        </tr>\n",
              "    </tbody>\n",
              "</table>\n",
              "<p>... (92 rows omitted)</p>"
            ],
            "text/plain": [
              "District        | School                       | Percentage Teachers first first | Percentage Students first first | Difference first first | Street first first           | StreetAbr first first    | City first first | Zip first first | State first first | Latitude first first | Longitude first first\n",
              "Oakland Unified | ACORN Woodland Elementary    | 5                               | 4.63                            | -0.37                  | 1025 - 81st Avenue           | 1025 - 81st Ave.         | Oakland          | 94621           | CA                | No Data              | No Data\n",
              "Oakland Unified | Allendale Elementary         | 24                              | 27.75                           | 3.75                   | 3670 Penniman Avenue         | 3670 Penniman Ave.       | Oakland          | 94619-1116      | CA                | 37.788642            | -122.20516\n",
              "Oakland Unified | Bella Vista Elementary       | 13.7931                         | 19.66                           | 5.8669                 | 1025 East 28th Street        | 1025 East 28th St.       | Oakland          | 94610-4018      | CA                | 37.800355            | -122.23708\n",
              "Oakland Unified | Brookfield Elementary        | 26.6667                         | 24.54                           | -2.12667               | 401 Jones Avenue             | 401 Jones Ave.           | Oakland          | 94603-1123      | CA                | 37.734711            | -122.189\n",
              "Oakland Unified | Burckhalter Elementary       | 50                              | 66.22                           | 16.22                  | 3994 Burckhalter Avenue      | 3994 Burckhalter Ave.    | Oakland          | 94605-2616      | CA                | 37.775578            | -122.16679\n",
              "Oakland Unified | Carl B. Munck Elementary     | 47.0588                         | 51.29                           | 4.23118                | 11900 Campus Drive           | 11900 Campus Dr.         | Oakland          | 94619-3104      | CA                | 37.794753            | -122.17382\n",
              "Oakland Unified | Chabot Elementary            | 8.57143                         | 7.34                            | -1.23143               | 6686 Chabot Road             | 6686 Chabot Rd.          | Oakland          | 94618-1641      | CA                | 37.850664            | -122.24293\n",
              "Oakland Unified | Cleveland Elementary         | 33.3333                         | 17.13                           | -16.2033               | 745 Cleveland Street         | 745 Cleveland St.        | Oakland          | 94606-1513      | CA                | 37.804369            | -122.24405\n",
              "Oakland Unified | Community United Elementary  | 26.087                          | 11.53                           | -14.557                | 6701 International Boulevard | 6701 International Blvd. | Oakland          | 94621-3501      | CA                | 37.761424            | -122.19188\n",
              "Oakland Unified | Crocker Highlands Elementary | 14.2857                         | 7.42                            | -6.86571               | 525 Midcrest Road            | 525 Midcrest Rd.         | Oakland          | 94610-1813      | CA                | 37.811364            | -122.22738\n",
              "... (92 rows omitted)"
            ]
          },
          "metadata": {
            "tags": []
          },
          "execution_count": 105
        }
      ]
    },
    {
      "cell_type": "code",
      "metadata": {
        "id": "aZyWEsZmhOSA",
        "colab": {
          "base_uri": "https://localhost:8080/",
          "height": 746
        },
        "outputId": "8bb5d7ea-b0b4-40de-bfd4-87a92133c348"
      },
      "source": [
        "joint_tables = joint_tables.sort(\"Difference first first\", descending = True)\n",
        "relabel_old = [\"Percentage Teachers first first\", \"Percentage Students first first\", \"Difference first first\",\n",
        "               \"Street first first\", \"StreetAbr first first\", \"City first first\", \"Zip first first\", \"State first first\",\n",
        "               \"Latitude first first\", \"Longitude first first\"]\n",
        "relabel_new = [\"Percentage Teachers\", \"Percentage Students\", \"Difference\",\n",
        "               \"Street\", \"StreetAbr\", \"City\", \"Zip\", \"State\",\"Latitude\", \"Longitude\"]\n",
        "joint_tables = joint_tables.relabel(relabel_old[0], relabel_new[0]).relabel(relabel_old[1], relabel_new[1]).relabel(\n",
        "    relabel_old[2], relabel_new[2]).relabel(relabel_old[3], relabel_new[3]).relabel(relabel_old[4], relabel_new[4]).relabel(\n",
        "    relabel_old[5], relabel_new[5]).relabel(relabel_old[6], relabel_new[6]).relabel(relabel_old[7], relabel_new[7]).relabel(\n",
        "    relabel_old[8], relabel_new[8]).relabel(relabel_old[9], relabel_new[9])\n",
        "joint_tables"
      ],
      "execution_count": null,
      "outputs": [
        {
          "output_type": "execute_result",
          "data": {
            "text/html": [
              "<table border=\"1\" class=\"dataframe\">\n",
              "    <thead>\n",
              "        <tr>\n",
              "            <th>District</th> <th>School</th> <th>Percentage Teachers</th> <th>Percentage Students</th> <th>Difference</th> <th>Street</th> <th>StreetAbr</th> <th>City</th> <th>Zip</th> <th>State</th> <th>Latitude</th> <th>Longitude</th>\n",
              "        </tr>\n",
              "    </thead>\n",
              "    <tbody>\n",
              "        <tr>\n",
              "            <td>San Francisco Unified</td> <td>Cobb (William L.) Elementary  </td> <td>0                  </td> <td>30.88              </td> <td>30.88     </td> <td>2725 California Street </td> <td>2725 California St.  </td> <td>San Francisco</td> <td>94115-2513</td> <td>CA   </td> <td>37.788174</td> <td>-122.43918</td>\n",
              "        </tr>\n",
              "        <tr>\n",
              "            <td>San Francisco Unified</td> <td>Harte (Bret) Elementary       </td> <td>0                  </td> <td>23.96              </td> <td>23.96     </td> <td>1035 Gilman Avenue     </td> <td>1035 Gilman Ave.     </td> <td>San Francisco</td> <td>94124-3710</td> <td>CA   </td> <td>37.71861 </td> <td>-122.38889</td>\n",
              "        </tr>\n",
              "        <tr>\n",
              "            <td>Oakland Unified      </td> <td>Grass Valley Elementary       </td> <td>44.4444            </td> <td>63.78              </td> <td>19.3356   </td> <td>4720 Dunkirk Avenue    </td> <td>4720 Dunkirk Ave.    </td> <td>Oakland      </td> <td>94605-5607</td> <td>CA   </td> <td>37.75301 </td> <td>-122.12585</td>\n",
              "        </tr>\n",
              "        <tr>\n",
              "            <td>San Francisco Unified</td> <td>Garfield Elementary           </td> <td>0                  </td> <td>19.07              </td> <td>19.07     </td> <td>420 Filbert Street     </td> <td>420 Filbert St.      </td> <td>San Francisco</td> <td>94133-3002</td> <td>CA   </td> <td>37.8018  </td> <td>-122.40673</td>\n",
              "        </tr>\n",
              "        <tr>\n",
              "            <td>San Francisco Unified</td> <td>El Dorado Elementary          </td> <td>9.09091            </td> <td>27.39              </td> <td>18.2991   </td> <td>70 Delta Street        </td> <td>70 Delta St.         </td> <td>San Francisco</td> <td>94134-2145</td> <td>CA   </td> <td>37.719265</td> <td>-122.40673</td>\n",
              "        </tr>\n",
              "        <tr>\n",
              "            <td>Oakland Unified      </td> <td>Emerson Elementary            </td> <td>26.9231            </td> <td>44.27              </td> <td>17.3469   </td> <td>4803 Lawton Avenue     </td> <td>4803 Lawton Ave.     </td> <td>Oakland      </td> <td>94609-2208</td> <td>CA   </td> <td>37.834628</td> <td>-122.2573 </td>\n",
              "        </tr>\n",
              "        <tr>\n",
              "            <td>San Francisco Unified</td> <td>Cleveland Elementary          </td> <td>0                  </td> <td>17.13              </td> <td>17.13     </td> <td>455 Athens Street      </td> <td>455 Athens St.       </td> <td>San Francisco</td> <td>94112-2801</td> <td>CA   </td> <td>37.720733</td> <td>-122.42904</td>\n",
              "        </tr>\n",
              "        <tr>\n",
              "            <td>Oakland Unified      </td> <td>Burckhalter Elementary        </td> <td>50                 </td> <td>66.22              </td> <td>16.22     </td> <td>3994 Burckhalter Avenue</td> <td>3994 Burckhalter Ave.</td> <td>Oakland      </td> <td>94605-2616</td> <td>CA   </td> <td>37.775578</td> <td>-122.16679</td>\n",
              "        </tr>\n",
              "        <tr>\n",
              "            <td>San Francisco Unified</td> <td>King (Thomas Starr) Elementary</td> <td>0                  </td> <td>14.66              </td> <td>14.66     </td> <td>1215 Carolina Street   </td> <td>1215 Carolina St.    </td> <td>San Francisco</td> <td>94107-3322</td> <td>CA   </td> <td>37.752765</td> <td>-122.39935</td>\n",
              "        </tr>\n",
              "        <tr>\n",
              "            <td>Oakland Unified      </td> <td>Kaiser Elementary             </td> <td>7.14286            </td> <td>21.13              </td> <td>13.9871   </td> <td>25 South Hill Court    </td> <td>25 South Hill Ct.    </td> <td>Oakland      </td> <td>94618-2306</td> <td>CA   </td> <td>37.853077</td> <td>-122.23181</td>\n",
              "        </tr>\n",
              "    </tbody>\n",
              "</table>\n",
              "<p>... (92 rows omitted)</p>"
            ],
            "text/plain": [
              "District              | School                         | Percentage Teachers | Percentage Students | Difference | Street                  | StreetAbr             | City          | Zip        | State | Latitude  | Longitude\n",
              "San Francisco Unified | Cobb (William L.) Elementary   | 0                   | 30.88               | 30.88      | 2725 California Street  | 2725 California St.   | San Francisco | 94115-2513 | CA    | 37.788174 | -122.43918\n",
              "San Francisco Unified | Harte (Bret) Elementary        | 0                   | 23.96               | 23.96      | 1035 Gilman Avenue      | 1035 Gilman Ave.      | San Francisco | 94124-3710 | CA    | 37.71861  | -122.38889\n",
              "Oakland Unified       | Grass Valley Elementary        | 44.4444             | 63.78               | 19.3356    | 4720 Dunkirk Avenue     | 4720 Dunkirk Ave.     | Oakland       | 94605-5607 | CA    | 37.75301  | -122.12585\n",
              "San Francisco Unified | Garfield Elementary            | 0                   | 19.07               | 19.07      | 420 Filbert Street      | 420 Filbert St.       | San Francisco | 94133-3002 | CA    | 37.8018   | -122.40673\n",
              "San Francisco Unified | El Dorado Elementary           | 9.09091             | 27.39               | 18.2991    | 70 Delta Street         | 70 Delta St.          | San Francisco | 94134-2145 | CA    | 37.719265 | -122.40673\n",
              "Oakland Unified       | Emerson Elementary             | 26.9231             | 44.27               | 17.3469    | 4803 Lawton Avenue      | 4803 Lawton Ave.      | Oakland       | 94609-2208 | CA    | 37.834628 | -122.2573\n",
              "San Francisco Unified | Cleveland Elementary           | 0                   | 17.13               | 17.13      | 455 Athens Street       | 455 Athens St.        | San Francisco | 94112-2801 | CA    | 37.720733 | -122.42904\n",
              "Oakland Unified       | Burckhalter Elementary         | 50                  | 66.22               | 16.22      | 3994 Burckhalter Avenue | 3994 Burckhalter Ave. | Oakland       | 94605-2616 | CA    | 37.775578 | -122.16679\n",
              "San Francisco Unified | King (Thomas Starr) Elementary | 0                   | 14.66               | 14.66      | 1215 Carolina Street    | 1215 Carolina St.     | San Francisco | 94107-3322 | CA    | 37.752765 | -122.39935\n",
              "Oakland Unified       | Kaiser Elementary              | 7.14286             | 21.13               | 13.9871    | 25 South Hill Court     | 25 South Hill Ct.     | Oakland       | 94618-2306 | CA    | 37.853077 | -122.23181\n",
              "... (92 rows omitted)"
            ]
          },
          "metadata": {
            "tags": []
          },
          "execution_count": 106
        }
      ]
    },
    {
      "cell_type": "code",
      "metadata": {
        "id": "wvEUF-JriEZ0"
      },
      "source": [
        "#joint_tables.to_df().to_csv('joint_tables.csv', index = False)"
      ],
      "execution_count": null,
      "outputs": []
    },
    {
      "cell_type": "code",
      "metadata": {
        "id": "3wjyJmNjqRzK"
      },
      "source": [
        "joint_tables = joint_tables.drop(6)"
      ],
      "execution_count": null,
      "outputs": []
    },
    {
      "cell_type": "code",
      "metadata": {
        "id": "JzaXvRAK12ZW",
        "colab": {
          "base_uri": "https://localhost:8080/",
          "height": 676
        },
        "outputId": "37c32d26-13cc-4f06-ebdf-70c7d3ae9856"
      },
      "source": [
        "joint_tables"
      ],
      "execution_count": null,
      "outputs": [
        {
          "output_type": "execute_result",
          "data": {
            "text/html": [
              "<table border=\"1\" class=\"dataframe\">\n",
              "    <thead>\n",
              "        <tr>\n",
              "            <th>District</th> <th>School</th> <th>Percentage Teachers</th> <th>Percentage Students</th> <th>Difference</th> <th>Street</th> <th>City</th> <th>Zip</th> <th>State</th> <th>Latitude</th> <th>Longitude</th>\n",
              "        </tr>\n",
              "    </thead>\n",
              "    <tbody>\n",
              "        <tr>\n",
              "            <td>San Francisco Unified</td> <td>Cobb (William L.) Elementary  </td> <td>0                  </td> <td>30.88              </td> <td>30.88     </td> <td>2725 California Street </td> <td>San Francisco</td> <td>94115-2513</td> <td>CA   </td> <td>37.788174</td> <td>-122.43918</td>\n",
              "        </tr>\n",
              "        <tr>\n",
              "            <td>San Francisco Unified</td> <td>Harte (Bret) Elementary       </td> <td>0                  </td> <td>23.96              </td> <td>23.96     </td> <td>1035 Gilman Avenue     </td> <td>San Francisco</td> <td>94124-3710</td> <td>CA   </td> <td>37.71861 </td> <td>-122.38889</td>\n",
              "        </tr>\n",
              "        <tr>\n",
              "            <td>Oakland Unified      </td> <td>Grass Valley Elementary       </td> <td>44.4444            </td> <td>63.78              </td> <td>19.3356   </td> <td>4720 Dunkirk Avenue    </td> <td>Oakland      </td> <td>94605-5607</td> <td>CA   </td> <td>37.75301 </td> <td>-122.12585</td>\n",
              "        </tr>\n",
              "        <tr>\n",
              "            <td>San Francisco Unified</td> <td>Garfield Elementary           </td> <td>0                  </td> <td>19.07              </td> <td>19.07     </td> <td>420 Filbert Street     </td> <td>San Francisco</td> <td>94133-3002</td> <td>CA   </td> <td>37.8018  </td> <td>-122.40673</td>\n",
              "        </tr>\n",
              "        <tr>\n",
              "            <td>San Francisco Unified</td> <td>El Dorado Elementary          </td> <td>9.09091            </td> <td>27.39              </td> <td>18.2991   </td> <td>70 Delta Street        </td> <td>San Francisco</td> <td>94134-2145</td> <td>CA   </td> <td>37.719265</td> <td>-122.40673</td>\n",
              "        </tr>\n",
              "        <tr>\n",
              "            <td>Oakland Unified      </td> <td>Emerson Elementary            </td> <td>26.9231            </td> <td>44.27              </td> <td>17.3469   </td> <td>4803 Lawton Avenue     </td> <td>Oakland      </td> <td>94609-2208</td> <td>CA   </td> <td>37.834628</td> <td>-122.2573 </td>\n",
              "        </tr>\n",
              "        <tr>\n",
              "            <td>San Francisco Unified</td> <td>Cleveland Elementary          </td> <td>0                  </td> <td>17.13              </td> <td>17.13     </td> <td>455 Athens Street      </td> <td>San Francisco</td> <td>94112-2801</td> <td>CA   </td> <td>37.720733</td> <td>-122.42904</td>\n",
              "        </tr>\n",
              "        <tr>\n",
              "            <td>Oakland Unified      </td> <td>Burckhalter Elementary        </td> <td>50                 </td> <td>66.22              </td> <td>16.22     </td> <td>3994 Burckhalter Avenue</td> <td>Oakland      </td> <td>94605-2616</td> <td>CA   </td> <td>37.775578</td> <td>-122.16679</td>\n",
              "        </tr>\n",
              "        <tr>\n",
              "            <td>San Francisco Unified</td> <td>King (Thomas Starr) Elementary</td> <td>0                  </td> <td>14.66              </td> <td>14.66     </td> <td>1215 Carolina Street   </td> <td>San Francisco</td> <td>94107-3322</td> <td>CA   </td> <td>37.752765</td> <td>-122.39935</td>\n",
              "        </tr>\n",
              "        <tr>\n",
              "            <td>Oakland Unified      </td> <td>Kaiser Elementary             </td> <td>7.14286            </td> <td>21.13              </td> <td>13.9871   </td> <td>25 South Hill Court    </td> <td>Oakland      </td> <td>94618-2306</td> <td>CA   </td> <td>37.853077</td> <td>-122.23181</td>\n",
              "        </tr>\n",
              "    </tbody>\n",
              "</table>\n",
              "<p>... (92 rows omitted)</p>"
            ],
            "text/plain": [
              "District              | School                         | Percentage Teachers | Percentage Students | Difference | Street                  | City          | Zip        | State | Latitude  | Longitude\n",
              "San Francisco Unified | Cobb (William L.) Elementary   | 0                   | 30.88               | 30.88      | 2725 California Street  | San Francisco | 94115-2513 | CA    | 37.788174 | -122.43918\n",
              "San Francisco Unified | Harte (Bret) Elementary        | 0                   | 23.96               | 23.96      | 1035 Gilman Avenue      | San Francisco | 94124-3710 | CA    | 37.71861  | -122.38889\n",
              "Oakland Unified       | Grass Valley Elementary        | 44.4444             | 63.78               | 19.3356    | 4720 Dunkirk Avenue     | Oakland       | 94605-5607 | CA    | 37.75301  | -122.12585\n",
              "San Francisco Unified | Garfield Elementary            | 0                   | 19.07               | 19.07      | 420 Filbert Street      | San Francisco | 94133-3002 | CA    | 37.8018   | -122.40673\n",
              "San Francisco Unified | El Dorado Elementary           | 9.09091             | 27.39               | 18.2991    | 70 Delta Street         | San Francisco | 94134-2145 | CA    | 37.719265 | -122.40673\n",
              "Oakland Unified       | Emerson Elementary             | 26.9231             | 44.27               | 17.3469    | 4803 Lawton Avenue      | Oakland       | 94609-2208 | CA    | 37.834628 | -122.2573\n",
              "San Francisco Unified | Cleveland Elementary           | 0                   | 17.13               | 17.13      | 455 Athens Street       | San Francisco | 94112-2801 | CA    | 37.720733 | -122.42904\n",
              "Oakland Unified       | Burckhalter Elementary         | 50                  | 66.22               | 16.22      | 3994 Burckhalter Avenue | Oakland       | 94605-2616 | CA    | 37.775578 | -122.16679\n",
              "San Francisco Unified | King (Thomas Starr) Elementary | 0                   | 14.66               | 14.66      | 1215 Carolina Street    | San Francisco | 94107-3322 | CA    | 37.752765 | -122.39935\n",
              "Oakland Unified       | Kaiser Elementary              | 7.14286             | 21.13               | 13.9871    | 25 South Hill Court     | Oakland       | 94618-2306 | CA    | 37.853077 | -122.23181\n",
              "... (92 rows omitted)"
            ]
          },
          "metadata": {
            "tags": []
          },
          "execution_count": 109
        }
      ]
    },
    {
      "cell_type": "code",
      "metadata": {
        "id": "TtM394T52XR1",
        "colab": {
          "base_uri": "https://localhost:8080/",
          "height": 432
        },
        "outputId": "d20c37fa-f4e1-4d66-f77e-cb252cbc7697"
      },
      "source": [
        "for_lunch_data_table = Table.read_table('free or reduced lunch.csv') # create a table of the f.o.r lunch data\n",
        "for_lunch_data_table = for_lunch_data_table.drop(np.arange(0,5)).drop(np.arange(2,14)).drop(np.arange(3,11))\n",
        "for_lunch_data_table = for_lunch_data_table.where(\"District Name\", are.contained_in(oakland_san_fran))\n",
        "for_lunch_data_table = for_lunch_data_table.sort('Percent (%) \\nEligible Free \\n(K-12)', descending=True).where(\"School Name\", are.containing(\"Elementary\"))\n",
        "\n",
        "for_lunch_data_table = for_lunch_data_table.relabel(2, \"Percentage\").group(\"School Name\", first)\n",
        "for_lunch_data_table"
      ],
      "execution_count": null,
      "outputs": [
        {
          "output_type": "stream",
          "text": [
            "/usr/local/lib/python3.6/dist-packages/datascience/tables.py:699: FutureWarning: elementwise comparison failed; returning scalar instead, but in the future will perform elementwise comparison\n",
            "  if i not in exclude and c not in exclude])\n"
          ],
          "name": "stderr"
        },
        {
          "output_type": "execute_result",
          "data": {
            "text/html": [
              "<table border=\"1\" class=\"dataframe\">\n",
              "    <thead>\n",
              "        <tr>\n",
              "            <th>School Name</th> <th>District Name first</th> <th>Percentage first</th>\n",
              "        </tr>\n",
              "    </thead>\n",
              "    <tbody>\n",
              "        <tr>\n",
              "            <td>ACORN Woodland Elementary</td> <td>Oakland Unified      </td> <td>84.00%          </td>\n",
              "        </tr>\n",
              "        <tr>\n",
              "            <td>Alamo Elementary         </td> <td>San Francisco Unified</td> <td>30.70%          </td>\n",
              "        </tr>\n",
              "        <tr>\n",
              "            <td>Allendale Elementary     </td> <td>Oakland Unified      </td> <td>77.30%          </td>\n",
              "        </tr>\n",
              "        <tr>\n",
              "            <td>Alvarado Elementary      </td> <td>San Francisco Unified</td> <td>21.90%          </td>\n",
              "        </tr>\n",
              "        <tr>\n",
              "            <td>Argonne Elementary       </td> <td>San Francisco Unified</td> <td>21.00%          </td>\n",
              "        </tr>\n",
              "        <tr>\n",
              "            <td>Bella Vista Elementary   </td> <td>Oakland Unified      </td> <td>68.20%          </td>\n",
              "        </tr>\n",
              "        <tr>\n",
              "            <td>Brookfield Elementary    </td> <td>Oakland Unified      </td> <td>79.60%          </td>\n",
              "        </tr>\n",
              "        <tr>\n",
              "            <td>Bryant Elementary        </td> <td>San Francisco Unified</td> <td>75.60%          </td>\n",
              "        </tr>\n",
              "        <tr>\n",
              "            <td>Burckhalter Elementary   </td> <td>Oakland Unified      </td> <td>82.00%          </td>\n",
              "        </tr>\n",
              "        <tr>\n",
              "            <td>Carl B. Munck Elementary </td> <td>Oakland Unified      </td> <td>66.40%          </td>\n",
              "        </tr>\n",
              "    </tbody>\n",
              "</table>\n",
              "<p>... (89 rows omitted)</p>"
            ],
            "text/plain": [
              "School Name               | District Name first   | Percentage first\n",
              "ACORN Woodland Elementary | Oakland Unified       | 84.00%\n",
              "Alamo Elementary          | San Francisco Unified | 30.70%\n",
              "Allendale Elementary      | Oakland Unified       | 77.30%\n",
              "Alvarado Elementary       | San Francisco Unified | 21.90%\n",
              "Argonne Elementary        | San Francisco Unified | 21.00%\n",
              "Bella Vista Elementary    | Oakland Unified       | 68.20%\n",
              "Brookfield Elementary     | Oakland Unified       | 79.60%\n",
              "Bryant Elementary         | San Francisco Unified | 75.60%\n",
              "Burckhalter Elementary    | Oakland Unified       | 82.00%\n",
              "Carl B. Munck Elementary  | Oakland Unified       | 66.40%\n",
              "... (89 rows omitted)"
            ]
          },
          "metadata": {
            "tags": []
          },
          "execution_count": 113
        }
      ]
    },
    {
      "cell_type": "code",
      "metadata": {
        "id": "Nk9EvYuj2ylP",
        "colab": {
          "base_uri": "https://localhost:8080/",
          "height": 763
        },
        "outputId": "f6fff9b6-894e-47b4-c442-6c015e751721"
      },
      "source": [
        "final_table = joint_tables.join(\"School\", for_lunch_data_table, \"School Name\").drop(11)\n",
        "for string in np.arange(len(final_table.column(\"Percentage first\"))):\n",
        "  final_table.column(\"Percentage first\")[string] = final_table.column(\"Percentage first\")[string].replace(\"%\", \"\")\n",
        "final_table = final_table.sort(\"Difference\", descending=True).relabel(\"Percentage Teachers\", \"Teachers (%)\").relabel(\n",
        "                  \"Percentage Students\", \"Students (%)\").relabel( \"Difference\", \"Difference: Student - Teacher (%)\").relabel(\"Percentage first\",\n",
        "                  \"Free/Reduced Lunch(%)\").move_to_start(\"Free/Reduced Lunch(%)\").move_to_start(\"School\").move_to_start(\"District\")\n",
        "final_table"
      ],
      "execution_count": null,
      "outputs": [
        {
          "output_type": "execute_result",
          "data": {
            "text/html": [
              "<table border=\"1\" class=\"dataframe\">\n",
              "    <thead>\n",
              "        <tr>\n",
              "            <th>District</th> <th>School</th> <th>Free/Reduced Lunch(%)</th> <th>Teachers (%)</th> <th>Students (%)</th> <th>Difference: Student - Teacher (%)</th> <th>Street</th> <th>City</th> <th>Zip</th> <th>State</th> <th>Latitude</th> <th>Longitude</th>\n",
              "        </tr>\n",
              "    </thead>\n",
              "    <tbody>\n",
              "        <tr>\n",
              "            <td>San Francisco Unified</td> <td>Cobb (William L.) Elementary  </td> <td>56.60                </td> <td>0           </td> <td>30.88       </td> <td>30.88                            </td> <td>2725 California Street </td> <td>San Francisco</td> <td>94115-2513</td> <td>CA   </td> <td>37.788174</td> <td>-122.43918</td>\n",
              "        </tr>\n",
              "        <tr>\n",
              "            <td>San Francisco Unified</td> <td>Harte (Bret) Elementary       </td> <td>74.20                </td> <td>0           </td> <td>23.96       </td> <td>23.96                            </td> <td>1035 Gilman Avenue     </td> <td>San Francisco</td> <td>94124-3710</td> <td>CA   </td> <td>37.71861 </td> <td>-122.38889</td>\n",
              "        </tr>\n",
              "        <tr>\n",
              "            <td>Oakland Unified      </td> <td>Grass Valley Elementary       </td> <td>73.60                </td> <td>44.4444     </td> <td>63.78       </td> <td>19.3356                          </td> <td>4720 Dunkirk Avenue    </td> <td>Oakland      </td> <td>94605-5607</td> <td>CA   </td> <td>37.75301 </td> <td>-122.12585</td>\n",
              "        </tr>\n",
              "        <tr>\n",
              "            <td>San Francisco Unified</td> <td>Garfield Elementary           </td> <td>84.30                </td> <td>0           </td> <td>19.07       </td> <td>19.07                            </td> <td>420 Filbert Street     </td> <td>San Francisco</td> <td>94133-3002</td> <td>CA   </td> <td>37.8018  </td> <td>-122.40673</td>\n",
              "        </tr>\n",
              "        <tr>\n",
              "            <td>San Francisco Unified</td> <td>El Dorado Elementary          </td> <td>70.10                </td> <td>9.09091     </td> <td>27.39       </td> <td>18.2991                          </td> <td>70 Delta Street        </td> <td>San Francisco</td> <td>94134-2145</td> <td>CA   </td> <td>37.719265</td> <td>-122.40673</td>\n",
              "        </tr>\n",
              "        <tr>\n",
              "            <td>Oakland Unified      </td> <td>Emerson Elementary            </td> <td>65.30                </td> <td>26.9231     </td> <td>44.27       </td> <td>17.3469                          </td> <td>4803 Lawton Avenue     </td> <td>Oakland      </td> <td>94609-2208</td> <td>CA   </td> <td>37.834628</td> <td>-122.2573 </td>\n",
              "        </tr>\n",
              "        <tr>\n",
              "            <td>San Francisco Unified</td> <td>Cleveland Elementary          </td> <td>70.90                </td> <td>0           </td> <td>17.13       </td> <td>17.13                            </td> <td>455 Athens Street      </td> <td>San Francisco</td> <td>94112-2801</td> <td>CA   </td> <td>37.720733</td> <td>-122.42904</td>\n",
              "        </tr>\n",
              "        <tr>\n",
              "            <td>Oakland Unified      </td> <td>Burckhalter Elementary        </td> <td>82.00                </td> <td>50          </td> <td>66.22       </td> <td>16.22                            </td> <td>3994 Burckhalter Avenue</td> <td>Oakland      </td> <td>94605-2616</td> <td>CA   </td> <td>37.775578</td> <td>-122.16679</td>\n",
              "        </tr>\n",
              "        <tr>\n",
              "            <td>San Francisco Unified</td> <td>King (Thomas Starr) Elementary</td> <td>40.20                </td> <td>0           </td> <td>14.66       </td> <td>14.66                            </td> <td>1215 Carolina Street   </td> <td>San Francisco</td> <td>94107-3322</td> <td>CA   </td> <td>37.752765</td> <td>-122.39935</td>\n",
              "        </tr>\n",
              "        <tr>\n",
              "            <td>Oakland Unified      </td> <td>Kaiser Elementary             </td> <td>30.90                </td> <td>7.14286     </td> <td>21.13       </td> <td>13.9871                          </td> <td>25 South Hill Court    </td> <td>Oakland      </td> <td>94618-2306</td> <td>CA   </td> <td>37.853077</td> <td>-122.23181</td>\n",
              "        </tr>\n",
              "    </tbody>\n",
              "</table>\n",
              "<p>... (92 rows omitted)</p>"
            ],
            "text/plain": [
              "District              | School                         | Free/Reduced Lunch(%) | Teachers (%) | Students (%) | Difference: Student - Teacher (%) | Street                  | City          | Zip        | State | Latitude  | Longitude\n",
              "San Francisco Unified | Cobb (William L.) Elementary   | 56.60                 | 0            | 30.88        | 30.88                             | 2725 California Street  | San Francisco | 94115-2513 | CA    | 37.788174 | -122.43918\n",
              "San Francisco Unified | Harte (Bret) Elementary        | 74.20                 | 0            | 23.96        | 23.96                             | 1035 Gilman Avenue      | San Francisco | 94124-3710 | CA    | 37.71861  | -122.38889\n",
              "Oakland Unified       | Grass Valley Elementary        | 73.60                 | 44.4444      | 63.78        | 19.3356                           | 4720 Dunkirk Avenue     | Oakland       | 94605-5607 | CA    | 37.75301  | -122.12585\n",
              "San Francisco Unified | Garfield Elementary            | 84.30                 | 0            | 19.07        | 19.07                             | 420 Filbert Street      | San Francisco | 94133-3002 | CA    | 37.8018   | -122.40673\n",
              "San Francisco Unified | El Dorado Elementary           | 70.10                 | 9.09091      | 27.39        | 18.2991                           | 70 Delta Street         | San Francisco | 94134-2145 | CA    | 37.719265 | -122.40673\n",
              "Oakland Unified       | Emerson Elementary             | 65.30                 | 26.9231      | 44.27        | 17.3469                           | 4803 Lawton Avenue      | Oakland       | 94609-2208 | CA    | 37.834628 | -122.2573\n",
              "San Francisco Unified | Cleveland Elementary           | 70.90                 | 0            | 17.13        | 17.13                             | 455 Athens Street       | San Francisco | 94112-2801 | CA    | 37.720733 | -122.42904\n",
              "Oakland Unified       | Burckhalter Elementary         | 82.00                 | 50           | 66.22        | 16.22                             | 3994 Burckhalter Avenue | Oakland       | 94605-2616 | CA    | 37.775578 | -122.16679\n",
              "San Francisco Unified | King (Thomas Starr) Elementary | 40.20                 | 0            | 14.66        | 14.66                             | 1215 Carolina Street    | San Francisco | 94107-3322 | CA    | 37.752765 | -122.39935\n",
              "Oakland Unified       | Kaiser Elementary              | 30.90                 | 7.14286      | 21.13        | 13.9871                           | 25 South Hill Court     | Oakland       | 94618-2306 | CA    | 37.853077 | -122.23181\n",
              "... (92 rows omitted)"
            ]
          },
          "metadata": {
            "tags": []
          },
          "execution_count": 116
        }
      ]
    },
    {
      "cell_type": "code",
      "metadata": {
        "id": "LAFeYXF23SA1"
      },
      "source": [
        "final_table.to_df().to_csv('final_table.csv', index = False)"
      ],
      "execution_count": null,
      "outputs": []
    },
    {
      "cell_type": "code",
      "metadata": {
        "id": "QCqeTPA33dZ9"
      },
      "source": [],
      "execution_count": null,
      "outputs": []
    },
    {
      "cell_type": "code",
      "metadata": {
        "id": "-gFrQEcg3fqQ"
      },
      "source": [],
      "execution_count": null,
      "outputs": []
    }
  ]
}